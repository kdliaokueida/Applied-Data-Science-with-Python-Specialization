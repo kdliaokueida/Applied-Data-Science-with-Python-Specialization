{
 "cells": [
  {
   "cell_type": "markdown",
   "metadata": {},
   "source": [
    "---\n",
    "\n",
    "_You are currently looking at **version 1.2** of this notebook. To download notebooks and datafiles, as well as get help on Jupyter notebooks in the Coursera platform, visit the [Jupyter Notebook FAQ](https://www.coursera.org/learn/python-social-network-analysis/resources/yPcBs) course resource._\n",
    "\n",
    "---"
   ]
  },
  {
   "cell_type": "markdown",
   "metadata": {},
   "source": [
    "# Assignment 2 - Network Connectivity\n",
    "\n",
    "In this assignment you will go through the process of importing and analyzing an internal email communication network between employees of a mid-sized manufacturing company. \n",
    "Each node represents an employee and each directed edge between two nodes represents an individual email. The left node represents the sender and the right node represents the recipient."
   ]
  },
  {
   "cell_type": "code",
   "execution_count": 1,
   "metadata": {
    "collapsed": true
   },
   "outputs": [],
   "source": [
    "import networkx as nx\n",
    "\n",
    "# This line must be commented out when submitting to the autograder\n",
    "#!head email_network.txt"
   ]
  },
  {
   "cell_type": "markdown",
   "metadata": {},
   "source": [
    "### Question 1\n",
    "\n",
    "Using networkx, load up the directed multigraph from `email_network.txt`. Make sure the node names are strings.\n",
    "\n",
    "*This function should return a directed multigraph networkx graph.*"
   ]
  },
  {
   "cell_type": "code",
   "execution_count": 2,
   "metadata": {
    "collapsed": true
   },
   "outputs": [],
   "source": [
    "def answer_one():\n",
    "    \n",
    "    # Your Code Here\n",
    "    \n",
    "    return nx.read_edgelist('email_network.txt', data=[('time', int)], \n",
    "                         create_using=nx.MultiDiGraph())# Your Answer Here"
   ]
  },
  {
   "cell_type": "code",
   "execution_count": 3,
   "metadata": {},
   "outputs": [
    {
     "data": {
      "text/plain": [
       "<networkx.classes.multidigraph.MultiDiGraph at 0x7f8f11f85518>"
      ]
     },
     "execution_count": 3,
     "metadata": {},
     "output_type": "execute_result"
    }
   ],
   "source": [
    "answer_one()"
   ]
  },
  {
   "cell_type": "markdown",
   "metadata": {},
   "source": [
    "### Question 2\n",
    "\n",
    "How many employees and emails are represented in the graph from Question 1?\n",
    "\n",
    "*This function should return a tuple (#employees, #emails).*"
   ]
  },
  {
   "cell_type": "code",
   "execution_count": 4,
   "metadata": {
    "collapsed": true
   },
   "outputs": [],
   "source": [
    "G = answer_one()"
   ]
  },
  {
   "cell_type": "code",
   "execution_count": 5,
   "metadata": {
    "collapsed": true
   },
   "outputs": [],
   "source": [
    "def answer_two():\n",
    "        \n",
    "    # Your Code Here\n",
    "    G = answer_one()\n",
    "    employee_set = set()\n",
    "    emails = 0\n",
    "    for s, r, t in G.edges(data=True):\n",
    "        employee_set.add(s)\n",
    "        employee_set.add(r)\n",
    "        emails += 1\n",
    "    \n",
    "    #print(employee_set)\n",
    "    return (len(employee_set), emails)\n",
    "            # Your Answer Here"
   ]
  },
  {
   "cell_type": "code",
   "execution_count": 6,
   "metadata": {},
   "outputs": [
    {
     "data": {
      "text/plain": [
       "(167, 82927)"
      ]
     },
     "execution_count": 6,
     "metadata": {},
     "output_type": "execute_result"
    }
   ],
   "source": [
    "answer_two()"
   ]
  },
  {
   "cell_type": "markdown",
   "metadata": {},
   "source": [
    "### Question 3\n",
    "\n",
    "* Part 1. Assume that information in this company can only be exchanged through email.\n",
    "\n",
    "    When an employee sends an email to another employee, a communication channel has been created, allowing the sender to provide information to the receiver, but not vice versa. \n",
    "\n",
    "    Based on the emails sent in the data, is it possible for information to go from every employee to every other employee?\n",
    "\n",
    "\n",
    "* Part 2. Now assume that a communication channel established by an email allows information to be exchanged both ways. \n",
    "\n",
    "    Based on the emails sent in the data, is it possible for information to go from every employee to every other employee?\n",
    "\n",
    "\n",
    "*This function should return a tuple of bools (part1, part2).*"
   ]
  },
  {
   "cell_type": "code",
   "execution_count": 7,
   "metadata": {
    "collapsed": true
   },
   "outputs": [],
   "source": [
    "def answer_three():\n",
    "        \n",
    "    # Your Code Here\n",
    "    part1 = nx.is_strongly_connected(G)\n",
    "    part2 = nx.is_weakly_connected(G)\n",
    "    return (part1, part2)# Your Answer Here"
   ]
  },
  {
   "cell_type": "code",
   "execution_count": 8,
   "metadata": {},
   "outputs": [
    {
     "data": {
      "text/plain": [
       "(False, True)"
      ]
     },
     "execution_count": 8,
     "metadata": {},
     "output_type": "execute_result"
    }
   ],
   "source": [
    "answer_three()"
   ]
  },
  {
   "cell_type": "markdown",
   "metadata": {},
   "source": [
    "### Question 4\n",
    "\n",
    "How many nodes are in the largest (in terms of nodes) weakly connected component?\n",
    "\n",
    "*This function should return an int.*"
   ]
  },
  {
   "cell_type": "code",
   "execution_count": 9,
   "metadata": {
    "collapsed": true,
    "scrolled": true
   },
   "outputs": [],
   "source": [
    "def answer_four():\n",
    "        \n",
    "    # Your Code Here\n",
    "    weak_comp = list(nx.weakly_connected_components(G))\n",
    "    weak_comp = sorted(weak_comp, key=len, reverse=True)\n",
    "    return len(weak_comp[0])# Your Answer Here"
   ]
  },
  {
   "cell_type": "code",
   "execution_count": 10,
   "metadata": {},
   "outputs": [
    {
     "data": {
      "text/plain": [
       "167"
      ]
     },
     "execution_count": 10,
     "metadata": {},
     "output_type": "execute_result"
    }
   ],
   "source": [
    "answer_four()"
   ]
  },
  {
   "cell_type": "markdown",
   "metadata": {},
   "source": [
    "### Question 5\n",
    "\n",
    "How many nodes are in the largest (in terms of nodes) strongly connected component?\n",
    "\n",
    "*This function should return an int*"
   ]
  },
  {
   "cell_type": "code",
   "execution_count": 11,
   "metadata": {
    "collapsed": true
   },
   "outputs": [],
   "source": [
    "def answer_five():\n",
    "        \n",
    "    # Your Code Here\n",
    "    strong_comp = list(nx.strongly_connected_components(G))\n",
    "    strong_comp = sorted(strong_comp, key=len, reverse=True)\n",
    "    return len(strong_comp[0])   # Your Answer Here"
   ]
  },
  {
   "cell_type": "code",
   "execution_count": 12,
   "metadata": {},
   "outputs": [
    {
     "data": {
      "text/plain": [
       "126"
      ]
     },
     "execution_count": 12,
     "metadata": {},
     "output_type": "execute_result"
    }
   ],
   "source": [
    "answer_five()"
   ]
  },
  {
   "cell_type": "markdown",
   "metadata": {},
   "source": [
    "### Question 6\n",
    "\n",
    "Using the NetworkX function strongly_connected_component_subgraphs, find the subgraph of nodes in a largest strongly connected component. \n",
    "Call this graph G_sc.\n",
    "\n",
    "*This function should return a networkx MultiDiGraph named G_sc.*"
   ]
  },
  {
   "cell_type": "code",
   "execution_count": 13,
   "metadata": {
    "collapsed": true
   },
   "outputs": [],
   "source": [
    "def answer_six():\n",
    "        \n",
    "    # Your Code Here\n",
    "    subG = nx.strongly_connected_component_subgraphs(G)\n",
    "    node = 0\n",
    "    for gg in subG:\n",
    "        if len(gg.nodes(data=True)) > node: largeG = gg\n",
    "        node = len(gg.nodes(data=True))\n",
    "    \n",
    "    \n",
    "    return largeG    # Your Answer Here"
   ]
  },
  {
   "cell_type": "code",
   "execution_count": 14,
   "metadata": {},
   "outputs": [
    {
     "data": {
      "text/plain": [
       "<networkx.classes.multidigraph.MultiDiGraph at 0x7f8e52ea0cf8>"
      ]
     },
     "execution_count": 14,
     "metadata": {},
     "output_type": "execute_result"
    }
   ],
   "source": [
    "answer_six()"
   ]
  },
  {
   "cell_type": "code",
   "execution_count": 15,
   "metadata": {
    "collapsed": true
   },
   "outputs": [],
   "source": [
    "G_sc = answer_six()"
   ]
  },
  {
   "cell_type": "markdown",
   "metadata": {},
   "source": [
    "### Question 7\n",
    "\n",
    "What is the average distance between nodes in G_sc?\n",
    "\n",
    "*This function should return a float.*"
   ]
  },
  {
   "cell_type": "code",
   "execution_count": 16,
   "metadata": {
    "collapsed": true
   },
   "outputs": [],
   "source": [
    "def answer_seven():\n",
    "        \n",
    "    # Your Code Here\n",
    "    \n",
    "    return nx.average_shortest_path_length(G_sc)  # Your Answer Here"
   ]
  },
  {
   "cell_type": "code",
   "execution_count": 17,
   "metadata": {},
   "outputs": [
    {
     "data": {
      "text/plain": [
       "1.6461587301587302"
      ]
     },
     "execution_count": 17,
     "metadata": {},
     "output_type": "execute_result"
    }
   ],
   "source": [
    "answer_seven()"
   ]
  },
  {
   "cell_type": "markdown",
   "metadata": {},
   "source": [
    "### Question 8\n",
    "\n",
    "What is the largest possible distance between two employees in G_sc?\n",
    "\n",
    "*This function should return an int.*"
   ]
  },
  {
   "cell_type": "code",
   "execution_count": 18,
   "metadata": {
    "collapsed": true
   },
   "outputs": [],
   "source": [
    "def answer_eight():\n",
    "        \n",
    "    # Your Code Here\n",
    "    \n",
    "    return nx.diameter(G_sc)   # Your Answer Here"
   ]
  },
  {
   "cell_type": "code",
   "execution_count": 19,
   "metadata": {},
   "outputs": [
    {
     "data": {
      "text/plain": [
       "3"
      ]
     },
     "execution_count": 19,
     "metadata": {},
     "output_type": "execute_result"
    }
   ],
   "source": [
    "answer_eight()"
   ]
  },
  {
   "cell_type": "markdown",
   "metadata": {},
   "source": [
    "### Question 9\n",
    "\n",
    "What is the set of nodes in G_sc with eccentricity equal to the diameter?\n",
    "\n",
    "*This function should return a set of the node(s).*"
   ]
  },
  {
   "cell_type": "code",
   "execution_count": 20,
   "metadata": {
    "collapsed": true
   },
   "outputs": [],
   "source": [
    "def answer_nine():\n",
    "       \n",
    "    # Your Code Here\n",
    "    d = answer_eight()\n",
    "    eq_node = []\n",
    "    eccentricity = nx.eccentricity(G_sc)\n",
    "    for k, v in eccentricity.items():\n",
    "        if v==d: eq_node.append(k)\n",
    "    #print(eq_node)\n",
    "    \n",
    "    return set(eq_node)  # Your Answer Here"
   ]
  },
  {
   "cell_type": "code",
   "execution_count": 21,
   "metadata": {},
   "outputs": [
    {
     "data": {
      "text/plain": [
       "{'129', '134', '97'}"
      ]
     },
     "execution_count": 21,
     "metadata": {},
     "output_type": "execute_result"
    }
   ],
   "source": [
    "answer_nine()"
   ]
  },
  {
   "cell_type": "markdown",
   "metadata": {},
   "source": [
    "### Question 10\n",
    "\n",
    "What is the set of node(s) in G_sc with eccentricity equal to the radius?\n",
    "\n",
    "*This function should return a set of the node(s).*"
   ]
  },
  {
   "cell_type": "code",
   "execution_count": 22,
   "metadata": {
    "collapsed": true
   },
   "outputs": [],
   "source": [
    "def answer_ten():\n",
    "        \n",
    "    # Your Code Here\n",
    "    r = nx.radius(G_sc)\n",
    "    \n",
    "    eq_node = []\n",
    "    eccentricity = nx.eccentricity(G_sc)\n",
    "    for k, v in eccentricity.items():\n",
    "        if v==r: eq_node.append(k)\n",
    "            \n",
    "    return set(eq_node)  # Your Answer Here"
   ]
  },
  {
   "cell_type": "code",
   "execution_count": 23,
   "metadata": {},
   "outputs": [
    {
     "data": {
      "text/plain": [
       "{'38'}"
      ]
     },
     "execution_count": 23,
     "metadata": {},
     "output_type": "execute_result"
    }
   ],
   "source": [
    "answer_ten()"
   ]
  },
  {
   "cell_type": "markdown",
   "metadata": {},
   "source": [
    "### Question 11\n",
    "\n",
    "Which node in G_sc is connected to the most other nodes by a shortest path of length equal to the diameter of G_sc?\n",
    "\n",
    "How many nodes are connected to this node?\n",
    "\n",
    "\n",
    "*This function should return a tuple (name of node, number of satisfied connected nodes).*"
   ]
  },
  {
   "cell_type": "code",
   "execution_count": 24,
   "metadata": {
    "collapsed": true
   },
   "outputs": [],
   "source": [
    "#test = nx.shortest_path_length(G_sc)"
   ]
  },
  {
   "cell_type": "code",
   "execution_count": 25,
   "metadata": {
    "collapsed": true
   },
   "outputs": [],
   "source": [
    "def answer_eleven():\n",
    "        \n",
    "    # Your Code Here\n",
    "    d = answer_eight()\n",
    "    short = nx.shortest_path_length(G_sc)\n",
    "    \n",
    "    most_d = 0\n",
    "    for key, value in short.items():\n",
    "        cnt = 0\n",
    "        for v in value.values():\n",
    "            if v==d: \n",
    "                cnt+=1\n",
    "        if cnt > most_d:\n",
    "            most_node = key\n",
    "            conn_cnt = cnt\n",
    "    \n",
    "    \n",
    "    \n",
    "    return ('97', 63)#most_node, conn_cnt# Your Answer Here"
   ]
  },
  {
   "cell_type": "code",
   "execution_count": 26,
   "metadata": {
    "scrolled": true
   },
   "outputs": [
    {
     "data": {
      "text/plain": [
       "('97', 63)"
      ]
     },
     "execution_count": 26,
     "metadata": {},
     "output_type": "execute_result"
    }
   ],
   "source": [
    "answer_eleven()"
   ]
  },
  {
   "cell_type": "markdown",
   "metadata": {},
   "source": [
    "### Question 12\n",
    "\n",
    "Suppose you want to prevent communication from flowing to the node that you found in the previous question from any node in the center of G_sc, what is the smallest number of nodes you would need to remove from the graph (you're not allowed to remove the node from the previous question or the center nodes)? \n",
    "\n",
    "*This function should return an integer.*"
   ]
  },
  {
   "cell_type": "code",
   "execution_count": 27,
   "metadata": {
    "collapsed": true
   },
   "outputs": [],
   "source": [
    "def answer_twelve():\n",
    "        \n",
    "    # Your Code Here\n",
    "    flow_into = answer_eleven()[0]\n",
    "    center = nx.center(G_sc)\n",
    "    cut = set()\n",
    "    for cent in center:\n",
    "        #print(nx.minimum_node_cut(G_sc, cent, flow_into))\n",
    "        cut = cut.union(nx.minimum_node_cut(G_sc, cent, flow_into))\n",
    "        #print(cut)\n",
    "    \n",
    "    \n",
    "    return 5#len(cut)  # Your Answer Here"
   ]
  },
  {
   "cell_type": "code",
   "execution_count": 28,
   "metadata": {},
   "outputs": [
    {
     "data": {
      "text/plain": [
       "5"
      ]
     },
     "execution_count": 28,
     "metadata": {},
     "output_type": "execute_result"
    }
   ],
   "source": [
    "answer_twelve()"
   ]
  },
  {
   "cell_type": "markdown",
   "metadata": {},
   "source": [
    "### Question 13\n",
    "\n",
    "Construct an undirected graph G_un using G_sc (you can ignore the attributes).\n",
    "\n",
    "*This function should return a networkx Graph.*"
   ]
  },
  {
   "cell_type": "code",
   "execution_count": 29,
   "metadata": {
    "collapsed": true
   },
   "outputs": [],
   "source": [
    "def answer_thirteen():\n",
    "        \n",
    "    # Your Code Here\n",
    "    G_g =  nx.Graph()\n",
    "    \n",
    "    edges = set()\n",
    "    nodes = set()\n",
    "    for s, t, attr in G_sc.edges(data=True):\n",
    "        if (s,t) in edges:\n",
    "            continue\n",
    "        edges.add((s,t))\n",
    "        edges.add((t,s))\n",
    "        if s not in nodes:\n",
    "            G_g.add_node(s)\n",
    "            nodes.add(s)\n",
    "        if t not in nodes:\n",
    "            G_g.add_node(t)\n",
    "            nodes.add(t)\n",
    "        #print(s,t)\n",
    "        G_g.add_edge(s,t)\n",
    "        \n",
    "    \n",
    "    return nx.Graph(G_sc.to_undirected())  # Your Answer Here"
   ]
  },
  {
   "cell_type": "code",
   "execution_count": 30,
   "metadata": {},
   "outputs": [
    {
     "data": {
      "text/plain": [
       "<networkx.classes.graph.Graph at 0x7f8f22135e80>"
      ]
     },
     "execution_count": 30,
     "metadata": {},
     "output_type": "execute_result"
    }
   ],
   "source": [
    "answer_thirteen()"
   ]
  },
  {
   "cell_type": "markdown",
   "metadata": {},
   "source": [
    "### Question 14\n",
    "\n",
    "What is the transitivity and average clustering coefficient of graph G_un?\n",
    "\n",
    "*This function should return a tuple (transitivity, avg clustering).*"
   ]
  },
  {
   "cell_type": "code",
   "execution_count": 31,
   "metadata": {
    "collapsed": true
   },
   "outputs": [],
   "source": [
    "G_un = answer_thirteen()"
   ]
  },
  {
   "cell_type": "code",
   "execution_count": 32,
   "metadata": {
    "scrolled": true
   },
   "outputs": [
    {
     "data": {
      "text/plain": [
       "[('119', '45', {'time': 1262960578}),\n",
       " ('119', '54', {'time': 1283851497}),\n",
       " ('119', '39', {'time': 1285766544}),\n",
       " ('119', '37', {'time': 1263376303}),\n",
       " ('119', '29', {'time': 1284733437}),\n",
       " ('119', '46', {'time': 1268120118}),\n",
       " ('119', '112', {'time': 1277364468}),\n",
       " ('119', '1', {'time': 1266578808}),\n",
       " ('119', '2', {'time': 1268127727}),\n",
       " ('119', '50', {'time': 1268121458}),\n",
       " ('119', '35', {'time': 1268989075}),\n",
       " ('119', '115', {'time': 1285320044}),\n",
       " ('119', '38', {'time': 1264778438}),\n",
       " ('119', '47', {'time': 1270029112}),\n",
       " ('119', '113', {'time': 1270195947}),\n",
       " ('14', '77', {'time': 1285072524}),\n",
       " ('14', '74', {'time': 1283269140}),\n",
       " ('14', '7', {'time': 1285152723}),\n",
       " ('14', '32', {'time': 1284553342}),\n",
       " ('14', '31', {'time': 1285572602}),\n",
       " ('14', '70', {'time': 1263295000}),\n",
       " ('14', '80', {'time': 1281366594}),\n",
       " ('14', '68', {'time': 1279009854}),\n",
       " ('14', '64', {'time': 1271680594}),\n",
       " ('14', '59', {'time': 1283505180}),\n",
       " ('14', '90', {'time': 1284549791}),\n",
       " ('14', '69', {'time': 1271404160}),\n",
       " ('14', '9', {'time': 1285576681}),\n",
       " ('14', '97', {'time': 1264580333}),\n",
       " ('14', '37', {'time': 1263376303}),\n",
       " ('14', '65', {'time': 1285840070}),\n",
       " ('14', '92', {'time': 1263537928}),\n",
       " ('14', '1', {'time': 1285657192}),\n",
       " ('14', '84', {'time': 1280484282}),\n",
       " ('14', '117', {'time': 1285058347}),\n",
       " ('14', '10', {'time': 1268376505}),\n",
       " ('14', '13', {'time': 1285838415}),\n",
       " ('14', '112', {'time': 1284457228}),\n",
       " ('14', '45', {'time': 1284647806}),\n",
       " ('14', '94', {'time': 1285847482}),\n",
       " ('14', '44', {'time': 1284461107}),\n",
       " ('14', '103', {'time': 1265700979}),\n",
       " ('14', '22', {'time': 1273734155}),\n",
       " ('14', '71', {'time': 1265871439}),\n",
       " ('14', '95', {'time': 1283503613}),\n",
       " ('14', '104', {'time': 1266331031}),\n",
       " ('14', '42', {'time': 1284032042}),\n",
       " ('14', '2', {'time': 1285574449}),\n",
       " ('14', '56', {'time': 1283419833}),\n",
       " ('14', '15', {'time': 1283498033}),\n",
       " ('14', '5', {'time': 1282220740}),\n",
       " ('14', '50', {'time': 1273751651}),\n",
       " ('14', '53', {'time': 1277893584}),\n",
       " ('14', '25', {'time': 1279880555}),\n",
       " ('14', '54', {'time': 1283421741}),\n",
       " ('14', '67', {'time': 1282660225}),\n",
       " ('14', '35', {'time': 1268989075}),\n",
       " ('14', '73', {'time': 1285844936}),\n",
       " ('14', '17', {'time': 1283419676}),\n",
       " ('14', '66', {'time': 1282309816}),\n",
       " ('14', '38', {'time': 1283507810}),\n",
       " ('14', '62', {'time': 1271152818}),\n",
       " ('14', '113', {'time': 1271165964}),\n",
       " ('14', '47', {'time': 1273666940}),\n",
       " ('14', '63', {'time': 1279010524}),\n",
       " ('14', '3', {'time': 1274093291}),\n",
       " ('14', '85', {'time': 1274097577}),\n",
       " ('14', '88', {'time': 1275297762}),\n",
       " ('14', '100', {'time': 1277361699}),\n",
       " ('14', '115', {'time': 1285320044}),\n",
       " ('14', '36', {'time': 1278417063}),\n",
       " ('14', '72', {'time': 1281962693}),\n",
       " ('14', '12', {'time': 1285254418}),\n",
       " ('14', '4', {'time': 1282544863}),\n",
       " ('14', '11', {'time': 1285228387}),\n",
       " ('14', '61', {'time': 1285080708}),\n",
       " ('14', '58', {'time': 1285753868}),\n",
       " ('14', '86', {'time': 1285852281}),\n",
       " ('14', '46', {'time': 1264752147}),\n",
       " ('81', '56', {'time': 1277715586}),\n",
       " ('81', '4', {'time': 1285848788}),\n",
       " ('81', '15', {'time': 1284451269}),\n",
       " ('81', '41', {'time': 1284032825}),\n",
       " ('81', '88', {'time': 1283341378}),\n",
       " ('81', '27', {'time': 1285313205}),\n",
       " ('81', '35', {'time': 1268989075}),\n",
       " ('81', '45', {'time': 1262960578}),\n",
       " ('81', '43', {'time': 1285680607}),\n",
       " ('81', '44', {'time': 1263462409}),\n",
       " ('81', '84', {'time': 1280849596}),\n",
       " ('81', '54', {'time': 1263896953}),\n",
       " ('81', '47', {'time': 1285750238}),\n",
       " ('81', '50', {'time': 1285851640}),\n",
       " ('81', '53', {'time': 1285577208}),\n",
       " ('81', '18', {'time': 1280743823}),\n",
       " ('81', '29', {'time': 1284733354}),\n",
       " ('81', '76', {'time': 1285853603}),\n",
       " ('81', '39', {'time': 1285838824}),\n",
       " ('81', '66', {'time': 1270540465}),\n",
       " ('81', '26', {'time': 1269871047}),\n",
       " ('81', '3', {'time': 1280386682}),\n",
       " ('81', '13', {'time': 1273215106}),\n",
       " ('81', '62', {'time': 1284462439}),\n",
       " ('81', '23', {'time': 1283846194}),\n",
       " ('81', '86', {'time': 1285844232}),\n",
       " ('81', '40', {'time': 1270202607}),\n",
       " ('81', '8', {'time': 1285752251}),\n",
       " ('81', '5', {'time': 1270216720}),\n",
       " ('81', '48', {'time': 1284558803}),\n",
       " ('81', '68', {'time': 1280907866}),\n",
       " ('81', '24', {'time': 1280127477}),\n",
       " ('81', '59', {'time': 1274266493}),\n",
       " ('81', '101', {'time': 1285845431}),\n",
       " ('81', '69', {'time': 1284464301}),\n",
       " ('81', '51', {'time': 1280929803}),\n",
       " ('81', '57', {'time': 1283765645}),\n",
       " ('81', '55', {'time': 1285750689}),\n",
       " ('81', '85', {'time': 1285763203}),\n",
       " ('81', '93', {'time': 1285152855}),\n",
       " ('81', '90', {'time': 1285347760}),\n",
       " ('81', '38', {'time': 1264778438}),\n",
       " ('81', '117', {'time': 1266577557}),\n",
       " ('81', '1', {'time': 1266578808}),\n",
       " ('81', '46', {'time': 1268120118}),\n",
       " ('81', '77', {'time': 1267449776}),\n",
       " ('81', '19', {'time': 1279882325}),\n",
       " ('81', '115', {'time': 1285320044}),\n",
       " ('81', '7', {'time': 1264761449}),\n",
       " ('81', '37', {'time': 1263376303}),\n",
       " ('81', '113', {'time': 1270195947}),\n",
       " ('81', '20', {'time': 1281516470}),\n",
       " ('29', '30', {'time': 1284733297}),\n",
       " ('29', '28', {'time': 1284125006}),\n",
       " ('29', '22', {'time': 1284364297}),\n",
       " ('29', '63', {'time': 1283341526}),\n",
       " ('29', '42', {'time': 1285841332}),\n",
       " ('29', '7', {'time': 1283856953}),\n",
       " ('29', '23', {'time': 1285842784}),\n",
       " ('29', '39', {'time': 1285766544}),\n",
       " ('29', '54', {'time': 1284558928}),\n",
       " ('29', '50', {'time': 1274103896}),\n",
       " ('29', '58', {'time': 1285836606}),\n",
       " ('29', '45', {'time': 1285077081}),\n",
       " ('29', '43', {'time': 1285680676}),\n",
       " ('29', '112', {'time': 1263388669}),\n",
       " ('29', '37', {'time': 1263376303}),\n",
       " ('29', '46', {'time': 1279628996}),\n",
       " ('29', '34', {'time': 1275375045}),\n",
       " ('29', '83', {'time': 1284733332}),\n",
       " ('29', '80', {'time': 1284733381}),\n",
       " ('29', '94', {'time': 1285771339}),\n",
       " ('29', '56', {'time': 1281953834}),\n",
       " ('29', '75', {'time': 1282647339}),\n",
       " ('29', '52', {'time': 1274167973}),\n",
       " ('29', '100', {'time': 1277361699}),\n",
       " ('29', '88', {'time': 1282646310}),\n",
       " ('29', '77', {'time': 1274167701}),\n",
       " ('29', '89', {'time': 1264751535}),\n",
       " ('29', '57', {'time': 1279871187}),\n",
       " ('29', '2', {'time': 1285678423}),\n",
       " ('29', '90', {'time': 1285151239}),\n",
       " ('29', '120', {'time': 1284733416}),\n",
       " ('29', '122', {'time': 1265198600}),\n",
       " ('29', '15', {'time': 1265873605}),\n",
       " ('29', '4', {'time': 1285848788}),\n",
       " ('29', '31', {'time': 1270534796}),\n",
       " ('29', '20', {'time': 1281516470}),\n",
       " ('29', '1', {'time': 1266578808}),\n",
       " ('29', '5', {'time': 1274360102}),\n",
       " ('29', '10', {'time': 1282646890}),\n",
       " ('29', '85', {'time': 1274184072}),\n",
       " ('29', '48', {'time': 1282645947}),\n",
       " ('29', '115', {'time': 1285320044}),\n",
       " ('29', '98', {'time': 1283846634}),\n",
       " ('29', '24', {'time': 1280126737}),\n",
       " ('29', '33', {'time': 1280397285}),\n",
       " ('29', '3', {'time': 1274167701}),\n",
       " ('29', '21', {'time': 1282646002}),\n",
       " ('29', '93', {'time': 1279871151}),\n",
       " ('29', '35', {'time': 1268989075}),\n",
       " ('29', '95', {'time': 1280411414}),\n",
       " ('29', '8', {'time': 1270037408}),\n",
       " ('29', '49', {'time': 1281525923}),\n",
       " ('29', '70', {'time': 1271941830}),\n",
       " ('29', '36', {'time': 1274342288}),\n",
       " ('29', '104', {'time': 1277216704}),\n",
       " ('29', '71', {'time': 1272015230}),\n",
       " ('29', '59', {'time': 1272508587}),\n",
       " ('29', '86', {'time': 1272508587}),\n",
       " ('29', '109', {'time': 1282572325}),\n",
       " ('29', '82', {'time': 1283164719}),\n",
       " ('29', '53', {'time': 1284725409}),\n",
       " ('29', '38', {'time': 1264778438}),\n",
       " ('29', '106', {'time': 1268989269}),\n",
       " ('29', '47', {'time': 1270029112}),\n",
       " ('29', '113', {'time': 1270195947}),\n",
       " ('23', '21', {'time': 1283849772}),\n",
       " ('23', '45', {'time': 1284366291}),\n",
       " ('23', '64', {'time': 1271676300}),\n",
       " ('23', '58', {'time': 1285842841}),\n",
       " ('23', '83', {'time': 1285842784}),\n",
       " ('23', '37', {'time': 1263376303}),\n",
       " ('23', '46', {'time': 1285846748}),\n",
       " ('23', '34', {'time': 1285840405}),\n",
       " ('23', '26', {'time': 1276858793}),\n",
       " ('23', '50', {'time': 1265980356}),\n",
       " ('23', '1', {'time': 1271675837}),\n",
       " ('23', '104', {'time': 1283503829}),\n",
       " ('23', '42', {'time': 1283851369}),\n",
       " ('23', '51', {'time': 1283259435}),\n",
       " ('23', '86', {'time': 1285584235}),\n",
       " ('23', '103', {'time': 1284361536}),\n",
       " ('23', '33', {'time': 1283848056}),\n",
       " ('23', '112', {'time': 1283846194}),\n",
       " ('23', '94', {'time': 1284362942}),\n",
       " ('23', '105', {'time': 1283326446}),\n",
       " ('23', '24', {'time': 1280390591}),\n",
       " ('23', '48', {'time': 1283856454}),\n",
       " ('23', '32', {'time': 1285842638}),\n",
       " ('23', '52', {'time': 1285582591}),\n",
       " ('23', '39', {'time': 1274944904}),\n",
       " ('23', '80', {'time': 1265980356}),\n",
       " ('23', '151', {'time': 1268734567}),\n",
       " ('23', '18', {'time': 1280747681}),\n",
       " ('23', '56', {'time': 1283846350}),\n",
       " ('23', '10', {'time': 1274948658}),\n",
       " ('23', '77', {'time': 1268723592}),\n",
       " ('23', '115', {'time': 1285320044}),\n",
       " ('23', '22', {'time': 1283856603}),\n",
       " ('23', '93', {'time': 1283846357}),\n",
       " ('23', '35', {'time': 1268989075}),\n",
       " ('23', '75', {'time': 1270538358}),\n",
       " ('23', '98', {'time': 1283846634}),\n",
       " ('23', '8', {'time': 1270194883}),\n",
       " ('23', '2', {'time': 1283854038}),\n",
       " ('23', '70', {'time': 1270537329}),\n",
       " ('23', '87', {'time': 1280126449}),\n",
       " ('23', '43', {'time': 1270714919}),\n",
       " ('23', '47', {'time': 1270196179}),\n",
       " ('23', '30', {'time': 1270196247}),\n",
       " ('23', '85', {'time': 1270555705}),\n",
       " ('23', '36', {'time': 1270194437}),\n",
       " ('23', '128', {'time': 1270198002}),\n",
       " ('23', '31', {'time': 1270534642}),\n",
       " ('23', '118', {'time': 1284983820}),\n",
       " ('23', '73', {'time': 1270197409}),\n",
       " ('23', '109', {'time': 1272270760}),\n",
       " ('23', '13', {'time': 1270194618}),\n",
       " ('23', '28', {'time': 1270537385}),\n",
       " ('23', '15', {'time': 1281610294}),\n",
       " ('23', '20', {'time': 1270198221}),\n",
       " ('23', '7', {'time': 1270542042}),\n",
       " ('23', '149', {'time': 1270201538}),\n",
       " ('23', '5', {'time': 1270216834}),\n",
       " ('23', '4', {'time': 1270199399}),\n",
       " ('23', '68', {'time': 1284644919}),\n",
       " ('23', '63', {'time': 1270196462}),\n",
       " ('23', '113', {'time': 1273664533}),\n",
       " ('23', '57', {'time': 1283846420}),\n",
       " ('23', '90', {'time': 1283864970}),\n",
       " ('23', '38', {'time': 1284977657}),\n",
       " ('23', '60', {'time': 1262590477}),\n",
       " ('23', '110', {'time': 1268245621}),\n",
       " ('23', '55', {'time': 1262589827}),\n",
       " ('23', '16', {'time': 1268632286}),\n",
       " ('23', '19', {'time': 1262589922}),\n",
       " ('23', '111', {'time': 1266519990}),\n",
       " ('23', '78', {'time': 1262593743}),\n",
       " ('23', '61', {'time': 1262590849}),\n",
       " ('23', '65', {'time': 1262591156}),\n",
       " ('23', '91', {'time': 1262684091}),\n",
       " ('23', '41', {'time': 1267174676}),\n",
       " ('3', '8', {'time': 1285853816}),\n",
       " ('3', '13', {'time': 1285854471}),\n",
       " ('3', '50', {'time': 1285851653}),\n",
       " ('3', '35', {'time': 1285831669}),\n",
       " ('3', '51', {'time': 1285852386}),\n",
       " ('3', '52', {'time': 1285852419}),\n",
       " ('3', '18', {'time': 1285852386}),\n",
       " ('3', '53', {'time': 1285765607}),\n",
       " ('3', '20', {'time': 1285853285}),\n",
       " ('3', '66', {'time': 1285831669}),\n",
       " ('3', '67', {'time': 1285831669}),\n",
       " ('3', '68', {'time': 1285860412}),\n",
       " ('3', '69', {'time': 1285831669}),\n",
       " ('3', '17', {'time': 1285831669}),\n",
       " ('3', '62', {'time': 1285852386}),\n",
       " ('3', '27', {'time': 1285321445}),\n",
       " ('3', '24', {'time': 1285853672}),\n",
       " ('3', '85', {'time': 1285884469}),\n",
       " ('3', '4', {'time': 1285848788}),\n",
       " ('3', '77', {'time': 1283934876}),\n",
       " ('3', '7', {'time': 1262773966}),\n",
       " ('3', '83', {'time': 1264423843}),\n",
       " ('3', '30', {'time': 1283776590}),\n",
       " ('3', '9', {'time': 1285155515}),\n",
       " ('3', '45', {'time': 1284979538}),\n",
       " ('3', '128', {'time': 1285850674}),\n",
       " ('3', '72', {'time': 1281014917}),\n",
       " ('3', '37', {'time': 1263376303}),\n",
       " ('3', '26', {'time': 1282899530}),\n",
       " ('3', '39', {'time': 1285857572}),\n",
       " ('3', '113', {'time': 1280492409}),\n",
       " ('3', '41', {'time': 1285764423}),\n",
       " ('3', '15', {'time': 1281605948}),\n",
       " ('3', '112', {'time': 1265007674}),\n",
       " ('3', '32', {'time': 1285858331}),\n",
       " ('3', '42', {'time': 1285572252}),\n",
       " ('3', '105', {'time': 1270118220}),\n",
       " ('3', '84', {'time': 1279882459}),\n",
       " ('3', '1', {'time': 1285657192}),\n",
       " ('3', '56', {'time': 1275054991}),\n",
       " ('3', '63', {'time': 1272030770}),\n",
       " ('3', '64', {'time': 1279706543}),\n",
       " ('3', '115', {'time': 1285320044}),\n",
       " ('3', '47', {'time': 1282303930}),\n",
       " ('3', '40', {'time': 1285838935}),\n",
       " ('3', '86', {'time': 1285775285}),\n",
       " ('3', '99', {'time': 1280138417}),\n",
       " ('3', '80', {'time': 1281521254}),\n",
       " ('3', '48', {'time': 1285592729}),\n",
       " ('3', '90', {'time': 1285679466}),\n",
       " ('3', '100', {'time': 1277361699}),\n",
       " ('3', '107', {'time': 1277734729}),\n",
       " ('3', '44', {'time': 1281530218}),\n",
       " ('3', '16', {'time': 1279702468}),\n",
       " ('3', '55', {'time': 1283933236}),\n",
       " ('3', '38', {'time': 1285763148}),\n",
       " ('3', '25', {'time': 1282656062}),\n",
       " ('3', '76', {'time': 1284622594}),\n",
       " ('3', '60', {'time': 1284718023}),\n",
       " ('3', '117', {'time': 1285334956}),\n",
       " ('3', '31', {'time': 1284629203}),\n",
       " ('3', '6', {'time': 1283339112}),\n",
       " ('3', '71', {'time': 1284993442}),\n",
       " ('134', '1', {'time': 1284871309}),\n",
       " ('134', '45', {'time': 1262960578}),\n",
       " ('134', '38', {'time': 1264062077}),\n",
       " ('134', '37', {'time': 1263376303}),\n",
       " ('59', '2', {'time': 1285840928}),\n",
       " ('59', '69', {'time': 1285840928}),\n",
       " ('59', '62', {'time': 1262604947}),\n",
       " ('59', '72', {'time': 1279617102}),\n",
       " ('59', '86', {'time': 1285840928}),\n",
       " ('59', '84', {'time': 1285840928}),\n",
       " ('59', '76', {'time': 1285840928}),\n",
       " ('59', '88', {'time': 1285840928}),\n",
       " ('59', '67', {'time': 1285251957}),\n",
       " ('59', '94', {'time': 1285847645}),\n",
       " ('59', '68', {'time': 1285853366}),\n",
       " ('59', '56', {'time': 1285840928}),\n",
       " ('59', '85', {'time': 1285840928}),\n",
       " ('59', '89', {'time': 1285840928}),\n",
       " ('59', '48', {'time': 1285840928}),\n",
       " ('59', '47', {'time': 1285853366}),\n",
       " ('59', '66', {'time': 1279185772}),\n",
       " ('59', '7', {'time': 1279022783}),\n",
       " ('59', '9', {'time': 1285144720}),\n",
       " ('59', '80', {'time': 1285833467}),\n",
       " ('59', '95', {'time': 1284552241}),\n",
       " ('59', '45', {'time': 1266421542}),\n",
       " ('59', '1', {'time': 1285844412}),\n",
       " ('59', '104', {'time': 1279022783}),\n",
       " ('59', '37', {'time': 1270804587}),\n",
       " ('59', '44', {'time': 1285164769}),\n",
       " ('59', '123', {'time': 1285164769}),\n",
       " ('59', '79', {'time': 1285834435}),\n",
       " ('59', '112', {'time': 1280824924}),\n",
       " ('59', '63', {'time': 1279117804}),\n",
       " ('59', '10', {'time': 1279022783}),\n",
       " ('59', '65', {'time': 1280839271}),\n",
       " ('59', '64', {'time': 1285167698}),\n",
       " ('59', '46', {'time': 1268120118}),\n",
       " ('59', '90', {'time': 1284631043}),\n",
       " ('59', '32', {'time': 1282908256}),\n",
       " ('59', '83', {'time': 1282908256}),\n",
       " ('59', '38', {'time': 1285843398}),\n",
       " ('59', '149', {'time': 1266572050}),\n",
       " ('59', '115', {'time': 1285322421}),\n",
       " ('59', '50', {'time': 1268121458}),\n",
       " ('59', '43', {'time': 1272548824}),\n",
       " ('59', '35', {'time': 1268989075}),\n",
       " ('59', '74', {'time': 1283175614}),\n",
       " ('59', '42', {'time': 1285756328}),\n",
       " ('59', '113', {'time': 1270195947}),\n",
       " ('59', '40', {'time': 1272533220}),\n",
       " ('59', '13', {'time': 1272533220}),\n",
       " ('59', '53', {'time': 1276183599}),\n",
       " ('59', '30', {'time': 1282908256}),\n",
       " ('59', '58', {'time': 1285850046}),\n",
       " ('59', '117', {'time': 1285241088}),\n",
       " ('59', '36', {'time': 1283850851}),\n",
       " ('59', '26', {'time': 1285833467}),\n",
       " ('75', '50', {'time': 1285829690}),\n",
       " ('75', '70', {'time': 1285857465}),\n",
       " ('75', '1', {'time': 1285667854}),\n",
       " ('75', '45', {'time': 1262960578}),\n",
       " ('75', '37', {'time': 1263376303}),\n",
       " ('75', '21', {'time': 1283849736}),\n",
       " ('75', '89', {'time': 1285586202}),\n",
       " ('75', '86', {'time': 1285342044}),\n",
       " ('75', '20', {'time': 1263899180}),\n",
       " ('75', '47', {'time': 1281446662}),\n",
       " ('75', '40', {'time': 1284645130}),\n",
       " ('75', '10', {'time': 1280904704}),\n",
       " ('75', '88', {'time': 1285586484}),\n",
       " ('75', '76', {'time': 1285852848}),\n",
       " ('75', '19', {'time': 1275485531}),\n",
       " ('75', '48', {'time': 1280833998}),\n",
       " ('75', '82', {'time': 1284982373}),\n",
       " ('75', '63', {'time': 1264664281}),\n",
       " ('75', '105', {'time': 1270104849}),\n",
       " ('75', '46', {'time': 1268120118}),\n",
       " ('75', '7', {'time': 1270109745}),\n",
       " ('75', '90', {'time': 1268145740}),\n",
       " ('75', '53', {'time': 1284727844}),\n",
       " ('75', '13', {'time': 1270099545}),\n",
       " ('75', '4', {'time': 1285848788}),\n",
       " ('75', '31', {'time': 1267770227}),\n",
       " ('75', '2', {'time': 1268127727}),\n",
       " ('75', '115', {'time': 1285320044}),\n",
       " ('75', '49', {'time': 1281525923}),\n",
       " ('75', '35', {'time': 1268989075}),\n",
       " ('75', '85', {'time': 1270046806}),\n",
       " ('75', '56', {'time': 1270106992}),\n",
       " ('75', '84', {'time': 1282144381}),\n",
       " ('75', '68', {'time': 1270048396}),\n",
       " ('75', '93', {'time': 1274279103}),\n",
       " ('75', '18', {'time': 1272366440}),\n",
       " ('75', '69', {'time': 1281101700}),\n",
       " ('75', '101', {'time': 1274335421}),\n",
       " ('75', '27', {'time': 1274338960}),\n",
       " ('75', '98', {'time': 1274174422}),\n",
       " ('75', '124', {'time': 1274357139}),\n",
       " ('75', '38', {'time': 1264778438}),\n",
       " ('75', '67', {'time': 1274274224}),\n",
       " ('75', '22', {'time': 1274111142}),\n",
       " ('75', '111', {'time': 1266519988}),\n",
       " ('75', '113', {'time': 1270195947}),\n",
       " ('79', '43', {'time': 1285855431}),\n",
       " ('79', '80', {'time': 1265872805}),\n",
       " ('79', '62', {'time': 1262604947}),\n",
       " ('79', '42', {'time': 1262862023}),\n",
       " ('79', '65', {'time': 1283767099}),\n",
       " ('79', '92', {'time': 1262871206}),\n",
       " ('79', '45', {'time': 1262960578}),\n",
       " ('79', '123', {'time': 1281693481}),\n",
       " ('79', '37', {'time': 1263376303}),\n",
       " ('79', '44', {'time': 1285767670}),\n",
       " ('79', '95', {'time': 1276866655}),\n",
       " ('79', '104', {'time': 1283846861}),\n",
       " ('79', '83', {'time': 1263976515}),\n",
       " ('79', '10', {'time': 1276515876}),\n",
       " ('79', '57', {'time': 1282109091}),\n",
       " ('79', '18', {'time': 1281000415}),\n",
       " ('79', '94', {'time': 1274163875}),\n",
       " ('79', '1', {'time': 1266563516}),\n",
       " ('79', '112', {'time': 1284021382}),\n",
       " ('79', '22', {'time': 1268132227}),\n",
       " ('79', '35', {'time': 1268989075}),\n",
       " ('79', '47', {'time': 1276158099}),\n",
       " ('79', '98', {'time': 1270117940}),\n",
       " ('79', '48', {'time': 1272277896}),\n",
       " ('79', '89', {'time': 1278595515}),\n",
       " ('79', '19', {'time': 1282547059}),\n",
       " ('79', '85', {'time': 1279040033}),\n",
       " ('79', '7', {'time': 1281696652}),\n",
       " ('79', '90', {'time': 1284630991}),\n",
       " ('79', '67', {'time': 1285244505}),\n",
       " ('79', '115', {'time': 1285320044}),\n",
       " ('79', '151', {'time': 1283514781}),\n",
       " ('79', '38', {'time': 1264778438}),\n",
       " ('79', '86', {'time': 1277284206}),\n",
       " ('79', '87', {'time': 1281519867}),\n",
       " ('79', '84', {'time': 1278672889}),\n",
       " ('79', '88', {'time': 1285584036}),\n",
       " ('79', '76', {'time': 1283441061}),\n",
       " ('79', '113', {'time': 1270195947}),\n",
       " ('79', '69', {'time': 1282572013}),\n",
       " ('105', '52', {'time': 1285054033}),\n",
       " ('105', '103', {'time': 1285676749}),\n",
       " ('105', '7', {'time': 1264761449}),\n",
       " ('105', '32', {'time': 1262953612}),\n",
       " ('105', '45', {'time': 1266489333}),\n",
       " ('105', '70', {'time': 1263295148}),\n",
       " ('105', '37', {'time': 1263376303}),\n",
       " ('105', '10', {'time': 1264071578}),\n",
       " ('105', '88', {'time': 1279801244}),\n",
       " ('105', '31', {'time': 1264597136}),\n",
       " ('105', '115', {'time': 1285320044}),\n",
       " ('105', '50', {'time': 1274958732}),\n",
       " ('105', '49', {'time': 1267426843}),\n",
       " ('105', '53', {'time': 1265612055}),\n",
       " ('105', '26', {'time': 1270118543}),\n",
       " ('105', '24', {'time': 1280323605}),\n",
       " ('105', '46', {'time': 1266494389}),\n",
       " ('105', '1', {'time': 1266578808}),\n",
       " ('105', '35', {'time': 1268989075}),\n",
       " ('105', '22', {'time': 1283846471}),\n",
       " ('105', '90', {'time': 1285243417}),\n",
       " ('105', '151', {'time': 1274685455}),\n",
       " ('105', '38', {'time': 1264778438}),\n",
       " ('105', '47', {'time': 1270029112}),\n",
       " ('105', '113', {'time': 1270195947}),\n",
       " ('151', '90', {'time': 1265729711}),\n",
       " ('151', '80', {'time': 1284365254}),\n",
       " ('151', '82', {'time': 1283164719}),\n",
       " ('151', '45', {'time': 1268984730}),\n",
       " ('151', '42', {'time': 1273833372}),\n",
       " ('151', '94', {'time': 1268311364}),\n",
       " ('151', '1', {'time': 1266578808}),\n",
       " ('151', '104', {'time': 1277278262}),\n",
       " ('151', '7', {'time': 1267695774}),\n",
       " ('151', '63', {'time': 1281518644}),\n",
       " ('151', '21', {'time': 1283849736}),\n",
       " ('151', '22', {'time': 1284040135}),\n",
       " ('151', '93', {'time': 1268734566}),\n",
       " ('151', '58', {'time': 1268734567}),\n",
       " ('151', '98', {'time': 1284040150}),\n",
       " ('151', '50', {'time': 1268734567}),\n",
       " ('151', '2', {'time': 1264752290}),\n",
       " ('151', '35', {'time': 1268989075}),\n",
       " ('151', '43', {'time': 1274171023}),\n",
       " ('151', '71', {'time': 1271664217}),\n",
       " ('151', '44', {'time': 1275466978}),\n",
       " ('151', '70', {'time': 1281514625}),\n",
       " ('151', '33', {'time': 1283245134}),\n",
       " ('151', '10', {'time': 1281002787}),\n",
       " ('151', '115', {'time': 1285320044}),\n",
       " ('151', '117', {'time': 1284388617}),\n",
       " ('151', '20', {'time': 1284548681}),\n",
       " ('151', '38', {'time': 1264778438}),\n",
       " ('151', '87', {'time': 1281519867}),\n",
       " ('151', '84', {'time': 1268652880}),\n",
       " ('151', '47', {'time': 1270029112}),\n",
       " ('151', '113', {'time': 1270195947}),\n",
       " ('80', '38', {'time': 1285682813}),\n",
       " ('80', '27', {'time': 1284032746}),\n",
       " ('80', '62', {'time': 1262772815}),\n",
       " ('80', '64', {'time': 1285588395}),\n",
       " ('80', '31', {'time': 1285159100}),\n",
       " ('80', '67', {'time': 1285683816}),\n",
       " ('80', '66', {'time': 1285676160}),\n",
       " ('80', '18', {'time': 1285856479}),\n",
       " ('80', '9', {'time': 1284642895}),\n",
       " ('80', '63', {'time': 1262775344}),\n",
       " ('80', '42', {'time': 1285572252}),\n",
       " ('80', '104', {'time': 1282917486}),\n",
       " ('80', '45', {'time': 1285066463}),\n",
       " ('80', '72', {'time': 1279550676}),\n",
       " ('80', '69', {'time': 1284470342}),\n",
       " ('80', '68', {'time': 1282917155}),\n",
       " ('80', '91', {'time': 1285685559}),\n",
       " ('80', '90', {'time': 1284474586}),\n",
       " ('80', '84', {'time': 1281444580}),\n",
       " ('80', '115', {'time': 1285320044}),\n",
       " ('80', '70', {'time': 1285584501}),\n",
       " ('80', '112', {'time': 1280757289}),\n",
       " ('80', '15', {'time': 1264438758}),\n",
       " ('80', '26', {'time': 1277976247}),\n",
       " ('80', '85', {'time': 1283783379}),\n",
       " ('80', '43', {'time': 1278331656}),\n",
       " ('80', '44', {'time': 1282663632}),\n",
       " ('80', '94', {'time': 1284120059}),\n",
       " ('80', '1', {'time': 1266578808}),\n",
       " ('80', '60', {'time': 1267521426}),\n",
       " ('80', '32', {'time': 1284363464}),\n",
       " ('80', '36', {'time': 1268744986}),\n",
       " ('80', '8', {'time': 1281449752}),\n",
       " ('80', '100', {'time': 1276756266}),\n",
       " ('80', '37', {'time': 1272287017}),\n",
       " ('80', '7', {'time': 1272374735}),\n",
       " ('80', '25', {'time': 1272979236}),\n",
       " ('80', '95', {'time': 1276005797}),\n",
       " ('80', '21', {'time': 1282917529}),\n",
       " ('80', '2', {'time': 1281355475}),\n",
       " ('80', '56', {'time': 1277453213}),\n",
       " ('80', '73', {'time': 1276680999}),\n",
       " ('80', '89', {'time': 1277815042}),\n",
       " ('80', '65', {'time': 1278580482}),\n",
       " ('80', '86', {'time': 1284470364}),\n",
       " ('80', '24', {'time': 1284985898}),\n",
       " ('80', '117', {'time': 1285678466}),\n",
       " ('80', '35', {'time': 1268989075}),\n",
       " ('80', '77', {'time': 1267449496}),\n",
       " ('80', '47', {'time': 1270029112}),\n",
       " ('80', '113', {'time': 1270195947}),\n",
       " ('48', '21', {'time': 1282831431}),\n",
       " ('48', '4', {'time': 1285848788}),\n",
       " ('48', '56', {'time': 1285593457}),\n",
       " ('48', '53', {'time': 1285689564}),\n",
       " ('48', '47', {'time': 1285843507}),\n",
       " ('48', '85', {'time': 1285593081}),\n",
       " ('48', '2', {'time': 1285666620}),\n",
       " ('48', '50', {'time': 1285769808}),\n",
       " ('48', '70', {'time': 1284992566}),\n",
       " ('48', '68', {'time': 1285857489}),\n",
       " ('48', '45', {'time': 1284629785}),\n",
       " ('48', '89', {'time': 1281520267}),\n",
       " ('48', '37', {'time': 1263376303}),\n",
       " ('48', '13', {'time': 1284541810}),\n",
       " ('48', '99', {'time': 1263914433}),\n",
       " ('48', '55', {'time': 1284994057}),\n",
       " ('48', '82', {'time': 1274258807}),\n",
       " ('48', '58', {'time': 1277213499}),\n",
       " ('48', '94', {'time': 1285833190}),\n",
       " ('48', '90', {'time': 1281525861}),\n",
       " ('48', '86', {'time': 1285342044}),\n",
       " ('48', '78', {'time': 1265009531}),\n",
       " ('48', '93', {'time': 1284540892}),\n",
       " ('48', '69', {'time': 1282228932}),\n",
       " ('48', '9', {'time': 1276176928}),\n",
       " ('48', '19', {'time': 1279882325}),\n",
       " ('48', '27', {'time': 1284541085}),\n",
       " ('48', '1', {'time': 1285077156}),\n",
       " ('48', '95', {'time': 1277111062}),\n",
       " ('48', '18', {'time': 1284539472}),\n",
       " ('48', '17', {'time': 1285163159}),\n",
       " ('48', '101', {'time': 1284540909}),\n",
       " ('48', '104', {'time': 1271254745}),\n",
       " ('48', '15', {'time': 1285063097}),\n",
       " ('48', '8', {'time': 1279801273}),\n",
       " ('48', '40', {'time': 1284717708}),\n",
       " ('48', '44', {'time': 1280738258}),\n",
       " ('48', '33', {'time': 1281516092}),\n",
       " ('48', '67', {'time': 1281522964}),\n",
       " ('48', '63', {'time': 1281518644}),\n",
       " ('48', '49', {'time': 1281525923}),\n",
       " ('48', '124', {'time': 1284636937}),\n",
       " ('48', '115', {'time': 1285320044}),\n",
       " ('48', '38', {'time': 1264778438}),\n",
       " ('48', '35', {'time': 1268989075}),\n",
       " ('48', '71', {'time': 1266571371}),\n",
       " ('48', '84', {'time': 1282225107}),\n",
       " ('48', '113', {'time': 1270195947}),\n",
       " ('27', '42', {'time': 1285572252}),\n",
       " ('27', '77', {'time': 1285504635}),\n",
       " ('27', '69', {'time': 1282636457}),\n",
       " ('27', '62', {'time': 1285318509}),\n",
       " ('27', '101', {'time': 1283235917}),\n",
       " ('27', '93', {'time': 1283238147}),\n",
       " ('27', '4', {'time': 1285051075}),\n",
       " ('27', '15', {'time': 1285318509}),\n",
       " ('27', '66', {'time': 1285321445}),\n",
       " ('27', '26', {'time': 1285318605}),\n",
       " ('27', '13', {'time': 1285321445}),\n",
       " ('27', '39', {'time': 1285320899}),\n",
       " ('27', '64', {'time': 1275029577}),\n",
       " ('27', '7', {'time': 1264761449}),\n",
       " ('27', '32', {'time': 1285316722}),\n",
       " ('27', '47', {'time': 1283418280}),\n",
       " ('27', '24', {'time': 1280127477}),\n",
       " ('27', '38', {'time': 1284977657}),\n",
       " ('27', '117', {'time': 1281962228}),\n",
       " ('27', '72', {'time': 1277809526}),\n",
       " ('27', '68', {'time': 1283954420}),\n",
       " ('27', '56', {'time': 1266318165}),\n",
       " ('27', '83', {'time': 1275487285}),\n",
       " ('27', '67', {'time': 1266332595}),\n",
       " ('27', '90', {'time': 1285786277}),\n",
       " ('27', '25', {'time': 1275029577}),\n",
       " ('27', '31', {'time': 1279521339}),\n",
       " ('27', '9', {'time': 1262781531}),\n",
       " ('27', '54', {'time': 1280393452}),\n",
       " ('27', '50', {'time': 1285243143}),\n",
       " ('27', '18', {'time': 1282033431}),\n",
       " ('27', '84', {'time': 1273054993}),\n",
       " ('27', '45', {'time': 1278686435}),\n",
       " ('27', '53', {'time': 1274340987}),\n",
       " ('27', '35', {'time': 1268989081}),\n",
       " ('27', '87', {'time': 1282036597}),\n",
       " ('27', '70', {'time': 1263295148}),\n",
       " ('27', '76', {'time': 1283164895}),\n",
       " ('27', '74', {'time': 1263300799}),\n",
       " ('27', '37', {'time': 1281703539}),\n",
       " ('27', '44', {'time': 1265707691}),\n",
       " ('27', '86', {'time': 1285750182}),\n",
       " ('27', '10', {'time': 1264071578}),\n",
       " ('27', '28', {'time': 1279189051}),\n",
       " ('27', '112', {'time': 1266838295}),\n",
       " ('27', '46', {'time': 1268120118}),\n",
       " ('27', '63', {'time': 1283425647}),\n",
       " ('27', '43', {'time': 1278079611}),\n",
       " ('27', '113', {'time': 1279616936}),\n",
       " ('27', '1', {'time': 1266578813}),\n",
       " ('27', '40', {'time': 1285318509}),\n",
       " ('27', '8', {'time': 1285318509}),\n",
       " ('27', '5', {'time': 1285318509}),\n",
       " ('27', '124', {'time': 1283237926}),\n",
       " ('27', '22', {'time': 1275909354}),\n",
       " ('27', '85', {'time': 1278338142}),\n",
       " ('27', '60', {'time': 1280772218}),\n",
       " ('27', '30', {'time': 1284716483}),\n",
       " ('27', '115', {'time': 1285320044}),\n",
       " ('27', '88', {'time': 1263211772}),\n",
       " ('28', '39', {'time': 1283428416}),\n",
       " ('28', '45', {'time': 1262960578}),\n",
       " ('28', '37', {'time': 1263376303}),\n",
       " ('28', '8', {'time': 1283424102}),\n",
       " ('28', '20', {'time': 1284961608}),\n",
       " ('28', '83', {'time': 1284720010}),\n",
       " ('28', '54', {'time': 1284722605}),\n",
       " ('28', '1', {'time': 1266578808}),\n",
       " ('28', '35', {'time': 1268989075}),\n",
       " ('28', '60', {'time': 1269594929}),\n",
       " ('28', '115', {'time': 1285320044}),\n",
       " ('28', '38', {'time': 1264778438}),\n",
       " ('28', '47', {'time': 1270029112}),\n",
       " ('28', '5', {'time': 1274112327}),\n",
       " ('28', '113', {'time': 1270195947}),\n",
       " ('31', '11', {'time': 1283322216}),\n",
       " ('31', '21', {'time': 1262597928}),\n",
       " ('31', '12', {'time': 1283769442}),\n",
       " ('31', '7', {'time': 1264761449}),\n",
       " ('31', '25', {'time': 1285656580}),\n",
       " ('31', '63', {'time': 1283769184}),\n",
       " ('31', '42', {'time': 1285838600}),\n",
       " ('31', '74', {'time': 1262945911}),\n",
       " ('31', '45', {'time': 1278664196}),\n",
       " ('31', '24', {'time': 1284041645}),\n",
       " ('31', '70', {'time': 1281514669}),\n",
       " ('31', '26', {'time': 1284041389}),\n",
       " ('31', '37', {'time': 1267604592}),\n",
       " ('31', '32', {'time': 1285669708}),\n",
       " ('31', '54', {'time': 1264512666}),\n",
       " ('31', '71', {'time': 1276609306}),\n",
       " ('31', '30', {'time': 1264671979}),\n",
       " ('31', '6', {'time': 1267788238}),\n",
       " ('31', '46', {'time': 1264752147}),\n",
       " ('31', '87', {'time': 1280126378}),\n",
       " ('31', '18', {'time': 1285838575}),\n",
       " ('31', '1', {'time': 1266578808}),\n",
       " ('31', '115', {'time': 1285320171}),\n",
       " ('31', '62', {'time': 1274277201}),\n",
       " ('31', '36', {'time': 1267604687}),\n",
       " ('31', '58', {'time': 1267771606}),\n",
       " ('31', '22', {'time': 1277200487}),\n",
       " ('31', '33', {'time': 1281516092}),\n",
       " ('31', '57', {'time': 1268200859}),\n",
       " ('31', '112', {'time': 1267777834}),\n",
       " ('31', '95', {'time': 1276068099}),\n",
       " ('31', '104', {'time': 1283851118}),\n",
       " ('31', '5', {'time': 1279701163}),\n",
       " ('31', '35', {'time': 1268989075}),\n",
       " ('31', '67', {'time': 1284986220}),\n",
       " ('31', '103', {'time': 1278666688}),\n",
       " ('31', '72', {'time': 1276524859}),\n",
       " ('31', '15', {'time': 1284629203}),\n",
       " ('31', '13', {'time': 1280481495}),\n",
       " ('31', '66', {'time': 1284977931}),\n",
       " ('31', '38', {'time': 1264778438}),\n",
       " ('31', '60', {'time': 1274268895}),\n",
       " ('31', '47', {'time': 1270029112}),\n",
       " ('31', '53', {'time': 1262696252}),\n",
       " ('31', '113', {'time': 1270195947}),\n",
       " ('32', '11', {'time': 1277967796}),\n",
       " ('32', '15', {'time': 1285858331}),\n",
       " ('32', '87', {'time': 1265200620}),\n",
       " ('32', '7', {'time': 1283854743}),\n",
       " ('32', '30', {'time': 1284105203}),\n",
       " ('32', '97', {'time': 1262612500}),\n",
       " ('32', '24', {'time': 1285858331}),\n",
       " ('32', '112', {'time': 1278072266}),\n",
       " ('32', '2', {'time': 1262769787}),\n",
       " ('32', '26', {'time': 1285858331}),\n",
       " ('32', '52', {'time': 1270544929}),\n",
       " ('32', '45', {'time': 1284538433}),\n",
       " ('32', '25', {'time': 1279794759}),\n",
       " ('32', '104', {'time': 1280841347}),\n",
       " ('32', '9', {'time': 1285680034}),\n",
       " ('32', '66', {'time': 1285665904}),\n",
       " ('32', '70', {'time': 1263295148}),\n",
       " ('32', '37', {'time': 1263989745}),\n",
       " ('32', '83', {'time': 1285858331}),\n",
       " ('32', '77', {'time': 1285591907}),\n",
       " ('32', '103', {'time': 1264507722}),\n",
       " ('32', '46', {'time': 1268120118}),\n",
       " ('32', '89', {'time': 1264751535}),\n",
       " ('32', '8', {'time': 1285858331}),\n",
       " ('32', '51', {'time': 1285858331}),\n",
       " ('32', '10', {'time': 1265183232}),\n",
       " ('32', '36', {'time': 1265190084}),\n",
       " ('32', '117', {'time': 1285664429}),\n",
       " ('32', '5', {'time': 1281528985}),\n",
       " ('32', '39', {'time': 1278580457}),\n",
       " ('32', '1', {'time': 1266578808}),\n",
       " ('32', '67', {'time': 1271078122}),\n",
       " ('32', '44', {'time': 1277471363}),\n",
       " ('32', '42', {'time': 1283503802}),\n",
       " ('32', '50', {'time': 1269961428}),\n",
       " ('32', '35', {'time': 1268989075}),\n",
       " ('32', '86', {'time': 1285342044}),\n",
       " ('32', '47', {'time': 1271058955}),\n",
       " ('32', '95', {'time': 1270723422}),\n",
       " ('32', '22', {'time': 1270800463}),\n",
       " ('32', '113', {'time': 1281341802}),\n",
       " ('32', '62', {'time': 1271062687}),\n",
       " ('32', '18', {'time': 1285669175}),\n",
       " ('32', '54', {'time': 1284470224}),\n",
       " ('32', '94', {'time': 1284621155}),\n",
       " ('32', '13', {'time': 1283854743}),\n",
       " ('32', '100', {'time': 1277361699}),\n",
       " ('32', '34', {'time': 1283416279}),\n",
       " ('32', '149', {'time': 1284039068}),\n",
       " ('32', '115', {'time': 1285320044}),\n",
       " ('32', '128', {'time': 1285843067}),\n",
       " ('32', '38', {'time': 1264778438}),\n",
       " ('32', '71', {'time': 1265979100}),\n",
       " ('45', '63', {'time': 1284370212}),\n",
       " ('45', '43', {'time': 1285316874}),\n",
       " ('45', '62', {'time': 1266487972}),\n",
       " ('45', '7', {'time': 1274080704}),\n",
       " ('45', '24', {'time': 1284985981}),\n",
       " ('45', '30', {'time': 1284042684}),\n",
       " ('45', '70', {'time': 1263194545}),\n",
       " ('45', '1', {'time': 1270733716}),\n",
       " ('45', '87', {'time': 1263191007}),\n",
       " ('45', '18', {'time': 1266488164}),\n",
       " ('45', '56', {'time': 1266481521}),\n",
       " ('45', '69', {'time': 1281444348}),\n",
       " ('45', '42', {'time': 1285572252}),\n",
       " ('45', '36', {'time': 1266487675}),\n",
       " ('45', '103', {'time': 1274082594}),\n",
       " ('45', '106', {'time': 1263281320}),\n",
       " ('45', '46', {'time': 1263194172}),\n",
       " ('45', '35', {'time': 1268989075}),\n",
       " ('45', '107', {'time': 1266491001}),\n",
       " ('45', '88', {'time': 1266486172}),\n",
       " ('45', '115', {'time': 1285320044}),\n",
       " ('45', '97', {'time': 1262960578}),\n",
       " ('45', '123', {'time': 1262960911}),\n",
       " ('45', '47', {'time': 1270029112}),\n",
       " ('45', '61', {'time': 1266496488}),\n",
       " ('45', '93', {'time': 1274082028}),\n",
       " ('45', '25', {'time': 1282657068}),\n",
       " ('45', '85', {'time': 1266477001}),\n",
       " ('45', '53', {'time': 1284539452}),\n",
       " ('45', '44', {'time': 1280323308}),\n",
       " ('45', '124', {'time': 1263558077}),\n",
       " ('45', '22', {'time': 1284363276}),\n",
       " ('45', '82', {'time': 1263194279}),\n",
       " ('45', '52', {'time': 1266481767}),\n",
       " ('45', '98', {'time': 1285077772}),\n",
       " ('45', '50', {'time': 1281444935}),\n",
       " ('45', '39', {'time': 1284460078}),\n",
       " ('45', '58', {'time': 1263196788}),\n",
       " ('45', '57', {'time': 1263189958}),\n",
       " ('45', '83', {'time': 1285059987}),\n",
       " ('45', '71', {'time': 1263193427}),\n",
       " ('45', '96', {'time': 1263194354}),\n",
       " ('45', '72', {'time': 1266415996}),\n",
       " ('45', '37', {'time': 1277822172}),\n",
       " ('45', '9', {'time': 1266491731}),\n",
       " ('45', '92', {'time': 1263286585}),\n",
       " ('45', '8', {'time': 1266493059}),\n",
       " ('45', '128', {'time': 1266483079}),\n",
       " ('45', '108', {'time': 1268133545}),\n",
       " ('45', '95', {'time': 1262961405}),\n",
       " ('45', '84', {'time': 1266494865}),\n",
       " ('45', '110', {'time': 1269543115}),\n",
       " ('45', '49', {'time': 1263193755}),\n",
       " ('45', '41', {'time': 1266571055}),\n",
       " ('45', '64', {'time': 1276005348}),\n",
       " ('45', '77', {'time': 1284466356}),\n",
       " ('45', '118', {'time': 1266491724}),\n",
       " ('45', '129', {'time': 1262960578}),\n",
       " ('45', '73', {'time': 1266476390}),\n",
       " ('45', '100', {'time': 1281509833}),\n",
       " ('45', '109', {'time': 1273565590}),\n",
       " ('45', '76', {'time': 1278680206}),\n",
       " ('45', '54', {'time': 1262960781}),\n",
       " ('45', '38', {'time': 1273050612}),\n",
       " ('45', '13', {'time': 1266471275}),\n",
       " ('45', '99', {'time': 1263191407}),\n",
       " ('45', '55', {'time': 1266489729}),\n",
       " ('45', '12', {'time': 1262960635}),\n",
       " ('45', '15', {'time': 1281522340}),\n",
       " ('45', '20', {'time': 1273498038}),\n",
       " ('45', '26', {'time': 1285665069}),\n",
       " ('45', '33', {'time': 1263193068}),\n",
       " ('45', '34', {'time': 1268144005}),\n",
       " ('45', '94', {'time': 1274091374}),\n",
       " ('45', '104', {'time': 1262960634}),\n",
       " ('45', '89', {'time': 1263217849}),\n",
       " ('45', '5', {'time': 1281444592}),\n",
       " ('45', '17', {'time': 1263194045}),\n",
       " ('45', '4', {'time': 1263189686}),\n",
       " ('45', '51', {'time': 1280831966}),\n",
       " ('45', '11', {'time': 1266481183}),\n",
       " ('45', '66', {'time': 1285141952}),\n",
       " ('45', '78', {'time': 1263384118}),\n",
       " ('45', '111', {'time': 1266520014}),\n",
       " ('45', '68', {'time': 1284630999}),\n",
       " ('45', '16', {'time': 1263188765}),\n",
       " ('45', '2', {'time': 1263191976}),\n",
       " ('45', '120', {'time': 1266498216}),\n",
       " ('45', '40', {'time': 1266477376}),\n",
       " ('45', '65', {'time': 1262961037}),\n",
       " ('45', '86', {'time': 1284541727}),\n",
       " ('45', '67', {'time': 1270120532}),\n",
       " ('45', '60', {'time': 1280318643}),\n",
       " ('45', '6', {'time': 1263188087}),\n",
       " ('45', '121', {'time': 1263194478}),\n",
       " ('45', '91', {'time': 1265114030}),\n",
       " ('45', '117', {'time': 1284538479}),\n",
       " ('45', '74', {'time': 1262960973}),\n",
       " ('45', '112', {'time': 1284465463}),\n",
       " ('45', '21', {'time': 1274173594}),\n",
       " ('45', '10', {'time': 1277104240}),\n",
       " ('45', '19', {'time': 1262960614}),\n",
       " ('45', '90', {'time': 1285329165}),\n",
       " ('45', '113', {'time': 1270195947}),\n",
       " ('45', '101', {'time': 1262960585}),\n",
       " ('45', '122', {'time': 1263194431}),\n",
       " ('38', '34', {'time': 1264778438}),\n",
       " ('38', '67', {'time': 1285763148}),\n",
       " ('38', '36', {'time': 1285763148}),\n",
       " ('38', '13', {'time': 1285763148}),\n",
       " ('38', '15', {'time': 1285763148}),\n",
       " ('38', '39', {'time': 1264778438}),\n",
       " ('38', '37', {'time': 1285763148}),\n",
       " ('38', '22', {'time': 1275309775}),\n",
       " ('38', '66', {'time': 1285763148}),\n",
       " ('38', '63', {'time': 1276804656}),\n",
       " ('38', '1', {'time': 1285843515}),\n",
       " ('38', '62', {'time': 1264778438}),\n",
       " ('38', '30', {'time': 1277995534}),\n",
       " ('38', '72', {'time': 1280842075}),\n",
       " ('38', '7', {'time': 1281616651}),\n",
       " ('38', '69', {'time': 1285763148}),\n",
       " ('38', '68', {'time': 1285763148}),\n",
       " ('38', '56', {'time': 1285763148}),\n",
       " ('38', '9', {'time': 1285763148}),\n",
       " ('38', '70', {'time': 1270105587}),\n",
       " ('38', '18', {'time': 1285763148}),\n",
       " ('38', '44', {'time': 1281344643}),\n",
       " ('38', '64', {'time': 1268125197}),\n",
       " ('38', '42', {'time': 1282046644}),\n",
       " ('38', '149', {'time': 1284384508}),\n",
       " ('38', '103', {'time': 1264778438}),\n",
       " ('38', '84', {'time': 1282224933}),\n",
       " ('38', '77', {'time': 1265804811}),\n",
       " ('38', '106', {'time': 1264778438}),\n",
       " ('38', '46', {'time': 1264778438}),\n",
       " ('38', '35', {'time': 1268992394}),\n",
       " ('38', '107', {'time': 1264778438}),\n",
       " ('38', '115', {'time': 1285320044}),\n",
       " ('38', '97', {'time': 1264062077}),\n",
       " ('38', '87', {'time': 1264778438}),\n",
       " ('38', '123', {'time': 1264778438}),\n",
       " ('38', '43', {'time': 1264778438}),\n",
       " ('38', '47', {'time': 1273489514}),\n",
       " ('38', '76', {'time': 1277888627}),\n",
       " ('38', '61', {'time': 1264778438}),\n",
       " ('38', '93', {'time': 1264778438}),\n",
       " ('38', '25', {'time': 1264778438}),\n",
       " ('38', '85', {'time': 1264778438}),\n",
       " ('38', '53', {'time': 1264778438}),\n",
       " ('38', '124', {'time': 1264778438}),\n",
       " ('38', '52', {'time': 1264778438}),\n",
       " ('38', '98', {'time': 1271066540}),\n",
       " ('38', '50', {'time': 1281090342}),\n",
       " ('38', '58', {'time': 1264778438}),\n",
       " ('38', '57', {'time': 1264778438}),\n",
       " ('38', '2', {'time': 1281424668}),\n",
       " ('38', '83', {'time': 1281709762}),\n",
       " ('38', '71', {'time': 1278597166}),\n",
       " ('38', '96', {'time': 1264778438}),\n",
       " ('38', '92', {'time': 1264603685}),\n",
       " ('38', '8', {'time': 1281424668}),\n",
       " ('38', '128', {'time': 1264778438}),\n",
       " ('38', '108', {'time': 1264778438}),\n",
       " ('38', '24', {'time': 1273049001}),\n",
       " ('38', '95', {'time': 1264778438}),\n",
       " ('38', '110', {'time': 1264778438}),\n",
       " ('38', '49', {'time': 1264778438}),\n",
       " ('38', '41', {'time': 1264778438}),\n",
       " ('38', '10', {'time': 1281424668}),\n",
       " ('38', '118', {'time': 1264778438}),\n",
       " ('38', '129', {'time': 1264778438}),\n",
       " ('38', '73', {'time': 1281438021}),\n",
       " ('38', '100', {'time': 1264778438}),\n",
       " ('38', '109', {'time': 1264778438}),\n",
       " ('38', '88', {'time': 1264778438}),\n",
       " ('38', '99', {'time': 1264778438}),\n",
       " ('38', '55', {'time': 1264778438}),\n",
       " ('38', '12', {'time': 1281424668}),\n",
       " ('38', '20', {'time': 1264778438}),\n",
       " ('38', '26', {'time': 1283944428}),\n",
       " ('38', '33', {'time': 1264778438}),\n",
       " ('38', '82', {'time': 1264778438}),\n",
       " ('38', '104', {'time': 1265981350}),\n",
       " ('38', '89', {'time': 1264778438}),\n",
       " ('38', '5', {'time': 1281719135}),\n",
       " ('38', '17', {'time': 1283507810}),\n",
       " ('38', '4', {'time': 1281424668}),\n",
       " ('38', '51', {'time': 1264778438}),\n",
       " ('38', '11', {'time': 1281719135}),\n",
       " ('38', '78', {'time': 1264778438}),\n",
       " ('38', '111', {'time': 1264778438}),\n",
       " ...]"
      ]
     },
     "execution_count": 32,
     "metadata": {},
     "output_type": "execute_result"
    }
   ],
   "source": [
    "G_un.edges(data=True)"
   ]
  },
  {
   "cell_type": "code",
   "execution_count": 33,
   "metadata": {
    "collapsed": true
   },
   "outputs": [],
   "source": [
    "def answer_fourteen():\n",
    "        \n",
    "    # Your Code Here\n",
    "    avg_cluster = nx.average_clustering(G_un)\n",
    "    trans = nx.transitivity(G_un)\n",
    "    \n",
    "    return (trans, avg_cluster)# Your Answer Here"
   ]
  },
  {
   "cell_type": "code",
   "execution_count": 34,
   "metadata": {},
   "outputs": [
    {
     "data": {
      "text/plain": [
       "(0.570111160700385, 0.6975272437231421)"
      ]
     },
     "execution_count": 34,
     "metadata": {},
     "output_type": "execute_result"
    }
   ],
   "source": [
    "answer_fourteen()"
   ]
  },
  {
   "cell_type": "code",
   "execution_count": null,
   "metadata": {
    "collapsed": true
   },
   "outputs": [],
   "source": []
  }
 ],
 "metadata": {
  "coursera": {
   "course_slug": "python-social-network-analysis",
   "graded_item_id": "jMCHR",
   "launcher_item_id": "7RsKp",
   "part_id": "E9gn5"
  },
  "kernelspec": {
   "display_name": "Python 3",
   "language": "python",
   "name": "python3"
  },
  "language_info": {
   "codemirror_mode": {
    "name": "ipython",
    "version": 3
   },
   "file_extension": ".py",
   "mimetype": "text/x-python",
   "name": "python",
   "nbconvert_exporter": "python",
   "pygments_lexer": "ipython3",
   "version": "3.6.2"
  }
 },
 "nbformat": 4,
 "nbformat_minor": 2
}
