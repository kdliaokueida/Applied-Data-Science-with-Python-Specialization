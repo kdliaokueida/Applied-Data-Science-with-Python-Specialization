{
 "cells": [
  {
   "cell_type": "markdown",
   "metadata": {},
   "source": [
    "---\n",
    "\n",
    "_You are currently looking at **version 1.1** of this notebook. To download notebooks and datafiles, as well as get help on Jupyter notebooks in the Coursera platform, visit the [Jupyter Notebook FAQ](https://www.coursera.org/learn/python-machine-learning/resources/bANLa) course resource._\n",
    "\n",
    "---"
   ]
  },
  {
   "cell_type": "markdown",
   "metadata": {},
   "source": [
    "## Assignment 4 - Understanding and Predicting Property Maintenance Fines\n",
    "\n",
    "This assignment is based on a data challenge from the Michigan Data Science Team ([MDST](http://midas.umich.edu/mdst/)). \n",
    "\n",
    "The Michigan Data Science Team ([MDST](http://midas.umich.edu/mdst/)) and the Michigan Student Symposium for Interdisciplinary Statistical Sciences ([MSSISS](https://sites.lsa.umich.edu/mssiss/)) have partnered with the City of Detroit to help solve one of the most pressing problems facing Detroit - blight. [Blight violations](http://www.detroitmi.gov/How-Do-I/Report/Blight-Complaint-FAQs) are issued by the city to individuals who allow their properties to remain in a deteriorated condition. Every year, the city of Detroit issues millions of dollars in fines to residents and every year, many of these fines remain unpaid. Enforcing unpaid blight fines is a costly and tedious process, so the city wants to know: how can we increase blight ticket compliance?\n",
    "\n",
    "The first step in answering this question is understanding when and why a resident might fail to comply with a blight ticket. This is where predictive modeling comes in. For this assignment, your task is to predict whether a given blight ticket will be paid on time.\n",
    "\n",
    "All data for this assignment has been provided to us through the [Detroit Open Data Portal](https://data.detroitmi.gov/). **Only the data already included in your Coursera directory can be used for training the model for this assignment.** Nonetheless, we encourage you to look into data from other Detroit datasets to help inform feature creation and model selection. We recommend taking a look at the following related datasets:\n",
    "\n",
    "* [Building Permits](https://data.detroitmi.gov/Property-Parcels/Building-Permits/xw2a-a7tf)\n",
    "* [Trades Permits](https://data.detroitmi.gov/Property-Parcels/Trades-Permits/635b-dsgv)\n",
    "* [Improve Detroit: Submitted Issues](https://data.detroitmi.gov/Government/Improve-Detroit-Submitted-Issues/fwz3-w3yn)\n",
    "* [DPD: Citizen Complaints](https://data.detroitmi.gov/Public-Safety/DPD-Citizen-Complaints-2016/kahe-efs3)\n",
    "* [Parcel Map](https://data.detroitmi.gov/Property-Parcels/Parcel-Map/fxkw-udwf)\n",
    "\n",
    "___\n",
    "\n",
    "We provide you with two data files for use in training and validating your models: train.csv and test.csv. Each row in these two files corresponds to a single blight ticket, and includes information about when, why, and to whom each ticket was issued. The target variable is compliance, which is True if the ticket was paid early, on time, or within one month of the hearing data, False if the ticket was paid after the hearing date or not at all, and Null if the violator was found not responsible. Compliance, as well as a handful of other variables that will not be available at test-time, are only included in train.csv.\n",
    "\n",
    "Note: All tickets where the violators were found not responsible are not considered during evaluation. They are included in the training set as an additional source of data for visualization, and to enable unsupervised and semi-supervised approaches. However, they are not included in the test set.\n",
    "\n",
    "<br>\n",
    "\n",
    "**File descriptions** (Use only this data for training your model!)\n",
    "\n",
    "    readonly/train.csv - the training set (all tickets issued 2004-2011)\n",
    "    readonly/test.csv - the test set (all tickets issued 2012-2016)\n",
    "    readonly/addresses.csv & readonly/latlons.csv - mapping from ticket id to addresses, and from addresses to lat/lon coordinates. \n",
    "     Note: misspelled addresses may be incorrectly geolocated.\n",
    "\n",
    "<br>\n",
    "\n",
    "**Data fields**\n",
    "\n",
    "train.csv & test.csv\n",
    "\n",
    "    ticket_id - unique identifier for tickets\n",
    "    agency_name - Agency that issued the ticket\n",
    "    inspector_name - Name of inspector that issued the ticket\n",
    "    violator_name - Name of the person/organization that the ticket was issued to\n",
    "    violation_street_number, violation_street_name, violation_zip_code - Address where the violation occurred\n",
    "    mailing_address_str_number, mailing_address_str_name, city, state, zip_code, non_us_str_code, country - Mailing address of the violator\n",
    "    ticket_issued_date - Date and time the ticket was issued\n",
    "    hearing_date - Date and time the violator's hearing was scheduled\n",
    "    violation_code, violation_description - Type of violation\n",
    "    disposition - Judgment and judgement type\n",
    "    fine_amount - Violation fine amount, excluding fees\n",
    "    admin_fee - $20 fee assigned to responsible judgments\n",
    "state_fee - $10 fee assigned to responsible judgments\n",
    "    late_fee - 10% fee assigned to responsible judgments\n",
    "    discount_amount - discount applied, if any\n",
    "    clean_up_cost - DPW clean-up or graffiti removal cost\n",
    "    judgment_amount - Sum of all fines and fees\n",
    "    grafitti_status - Flag for graffiti violations\n",
    "    \n",
    "train.csv only\n",
    "\n",
    "    payment_amount - Amount paid, if any\n",
    "    payment_date - Date payment was made, if it was received\n",
    "    payment_status - Current payment status as of Feb 1 2017\n",
    "    balance_due - Fines and fees still owed\n",
    "    collection_status - Flag for payments in collections\n",
    "    compliance [target variable for prediction] \n",
    "     Null = Not responsible\n",
    "     0 = Responsible, non-compliant\n",
    "     1 = Responsible, compliant\n",
    "    compliance_detail - More information on why each ticket was marked compliant or non-compliant\n",
    "\n",
    "\n",
    "___\n",
    "\n",
    "## Evaluation\n",
    "\n",
    "Your predictions will be given as the probability that the corresponding blight ticket will be paid on time.\n",
    "\n",
    "The evaluation metric for this assignment is the Area Under the ROC Curve (AUC). \n",
    "\n",
    "Your grade will be based on the AUC score computed for your classifier. A model which with an AUROC of 0.7 passes this assignment, over 0.75 will recieve full points.\n",
    "___\n",
    "\n",
    "For this assignment, create a function that trains a model to predict blight ticket compliance in Detroit using `readonly/train.csv`. Using this model, return a series of length 61001 with the data being the probability that each corresponding ticket from `readonly/test.csv` will be paid, and the index being the ticket_id.\n",
    "\n",
    "Example:\n",
    "\n",
    "    ticket_id\n",
    "       284932    0.531842\n",
    "       285362    0.401958\n",
    "       285361    0.105928\n",
    "       285338    0.018572\n",
    "                 ...\n",
    "       376499    0.208567\n",
    "       376500    0.818759\n",
    "       369851    0.018528\n",
    "       Name: compliance, dtype: float32\n",
    "       \n",
    "### Hints\n",
    "\n",
    "* Make sure your code is working before submitting it to the autograder.\n",
    "\n",
    "* Print out your result to see whether there is anything weird (e.g., all probabilities are the same).\n",
    "\n",
    "* Generally the total runtime should be less than 10 mins. You should NOT use Neural Network related classifiers (e.g., MLPClassifier) in this question. \n",
    "\n",
    "* Try to avoid global variables. If you have other functions besides blight_model, you should move those functions inside the scope of blight_model.\n",
    "\n",
    "* Refer to the pinned threads in Week 4's discussion forum when there is something you could not figure it out."
   ]
  },
  {
   "cell_type": "code",
   "execution_count": 1,
   "metadata": {
    "collapsed": false
   },
   "outputs": [
    {
     "name": "stderr",
     "output_type": "stream",
     "text": [
      "/opt/conda/lib/python3.6/site-packages/IPython/core/interactiveshell.py:2717: DtypeWarning: Columns (11,12,31) have mixed types. Specify dtype option on import or set low_memory=False.\n",
      "  interactivity=interactivity, compiler=compiler, result=result)\n"
     ]
    }
   ],
   "source": [
    "#import pandas as pd\n",
    "#import numpy as np\n",
    "\n",
    "#train_set = pd.read_csv('readonly/train.csv',encoding = 'ISO-8859-1')\n",
    "#test_set = pd.read_csv('readonly/test.csv')\n",
    "#address = pd.read_csv('readonly/addresses.csv')\n",
    "#latlon = pd.read_csv('readonly/latlons.csv')\n"
   ]
  },
  {
   "cell_type": "code",
   "execution_count": 2,
   "metadata": {
    "collapsed": false
   },
   "outputs": [],
   "source": [
    "#train_set = train_set[~np.isnan(train_set['compliance'])]\n",
    "#train_add = train_set.merge(address, left_on='ticket_id', right_on='ticket_id')\n",
    "#train_add = train_add.merge(latlon, how='left', left_on='address', right_on='address')\n",
    "#train_set = train_add[['ticket_id','ticket_issued_date','hearing_date',\n",
    "#                       'fine_amount','discount_amount',\n",
    "#                       'late_fee','judgment_amount','grafitti_status',\n",
    "#                       'lat','lon','compliance']].copy()\n",
    "\n",
    "\n",
    "#test_add = test_set.merge(address, left_on='ticket_id', right_on='ticket_id')\n",
    "#test_add = test_add.merge(latlon, how='left', left_on='address', right_on='address')\n",
    "#test_set = test_add[['ticket_id','ticket_issued_date','hearing_date',\n",
    "#                     'fine_amount','discount_amount',\n",
    "#                     'late_fee','judgment_amount','grafitti_status',\n",
    "#                     'lat','lon']].copy()\n",
    "\n",
    "#train_set = train_set.set_index('ticket_id')\n",
    "#test_set = test_set.set_index('ticket_id')"
   ]
  },
  {
   "cell_type": "code",
   "execution_count": 3,
   "metadata": {
    "collapsed": false
   },
   "outputs": [],
   "source": [
    "#train_set['grafitti_status'] = (train_set['grafitti_status'].apply(lambda x: isinstance(x, str))).astype(int)\n",
    "#test_set['grafitti_status'] = (test_set['grafitti_status'].apply(lambda x: isinstance(x, str))).astype(int)"
   ]
  },
  {
   "cell_type": "code",
   "execution_count": 4,
   "metadata": {
    "collapsed": false,
    "scrolled": true
   },
   "outputs": [],
   "source": [
    "# train_set['lat'].fillna((train_set['lat'].mean()), inplace=True)\n",
    "# train_set['lon'].fillna((train_set['lon'].mean()), inplace=True)\n",
    "# test_set['lat'].fillna((train_set['lat'].mean()), inplace=True)\n",
    "# test_set['lon'].fillna((train_set['lon'].mean()), inplace=True)\n",
    "\n",
    "# train_set['date_diff'] = pd.to_datetime(train_set['hearing_date']) - pd.to_datetime(train_set['ticket_issued_date'])\n",
    "# test_set['date_diff'] = pd.to_datetime(test_set['hearing_date']) - pd.to_datetime(test_set['ticket_issued_date'])\n",
    "# train_set['date_diff'] = train_set['date_diff'].apply(lambda x: x.total_seconds())\n",
    "# test_set['date_diff'] = test_set['date_diff'].apply(lambda x: x.total_seconds())\n",
    "\n",
    "# train_set['date_diff'].fillna((train_set['date_diff'].mean()), inplace=True)\n",
    "# test_set['date_diff'].fillna((test_set['date_diff'].mean()), inplace=True)"
   ]
  },
  {
   "cell_type": "code",
   "execution_count": 5,
   "metadata": {
    "collapsed": false
   },
   "outputs": [
    {
     "data": {
      "text/html": [
       "<div>\n",
       "<table border=\"1\" class=\"dataframe\">\n",
       "  <thead>\n",
       "    <tr style=\"text-align: right;\">\n",
       "      <th></th>\n",
       "      <th>ticket_issued_date</th>\n",
       "      <th>hearing_date</th>\n",
       "      <th>fine_amount</th>\n",
       "      <th>discount_amount</th>\n",
       "      <th>late_fee</th>\n",
       "      <th>judgment_amount</th>\n",
       "      <th>grafitti_status</th>\n",
       "      <th>lat</th>\n",
       "      <th>lon</th>\n",
       "      <th>compliance</th>\n",
       "      <th>date_diff</th>\n",
       "    </tr>\n",
       "    <tr>\n",
       "      <th>ticket_id</th>\n",
       "      <th></th>\n",
       "      <th></th>\n",
       "      <th></th>\n",
       "      <th></th>\n",
       "      <th></th>\n",
       "      <th></th>\n",
       "      <th></th>\n",
       "      <th></th>\n",
       "      <th></th>\n",
       "      <th></th>\n",
       "      <th></th>\n",
       "    </tr>\n",
       "  </thead>\n",
       "  <tbody>\n",
       "    <tr>\n",
       "      <th>22056</th>\n",
       "      <td>2004-03-16 11:40:00</td>\n",
       "      <td>2005-03-21 10:30:00</td>\n",
       "      <td>250.0</td>\n",
       "      <td>0.0</td>\n",
       "      <td>25.0</td>\n",
       "      <td>305.0</td>\n",
       "      <td>0</td>\n",
       "      <td>42.390729</td>\n",
       "      <td>-83.124268</td>\n",
       "      <td>0.0</td>\n",
       "      <td>31963800.0</td>\n",
       "    </tr>\n",
       "    <tr>\n",
       "      <th>27586</th>\n",
       "      <td>2004-04-23 12:30:00</td>\n",
       "      <td>2005-05-06 13:30:00</td>\n",
       "      <td>750.0</td>\n",
       "      <td>0.0</td>\n",
       "      <td>75.0</td>\n",
       "      <td>855.0</td>\n",
       "      <td>0</td>\n",
       "      <td>42.326937</td>\n",
       "      <td>-83.135118</td>\n",
       "      <td>1.0</td>\n",
       "      <td>32662800.0</td>\n",
       "    </tr>\n",
       "    <tr>\n",
       "      <th>22046</th>\n",
       "      <td>2004-05-01 11:50:00</td>\n",
       "      <td>2005-03-21 10:30:00</td>\n",
       "      <td>250.0</td>\n",
       "      <td>0.0</td>\n",
       "      <td>25.0</td>\n",
       "      <td>305.0</td>\n",
       "      <td>0</td>\n",
       "      <td>42.145257</td>\n",
       "      <td>-83.208233</td>\n",
       "      <td>0.0</td>\n",
       "      <td>27988800.0</td>\n",
       "    </tr>\n",
       "    <tr>\n",
       "      <th>18738</th>\n",
       "      <td>2004-06-14 14:15:00</td>\n",
       "      <td>2005-02-22 15:00:00</td>\n",
       "      <td>750.0</td>\n",
       "      <td>0.0</td>\n",
       "      <td>75.0</td>\n",
       "      <td>855.0</td>\n",
       "      <td>0</td>\n",
       "      <td>42.433466</td>\n",
       "      <td>-83.023493</td>\n",
       "      <td>0.0</td>\n",
       "      <td>21861900.0</td>\n",
       "    </tr>\n",
       "    <tr>\n",
       "      <th>18735</th>\n",
       "      <td>2004-06-16 12:30:00</td>\n",
       "      <td>2005-02-22 15:00:00</td>\n",
       "      <td>100.0</td>\n",
       "      <td>0.0</td>\n",
       "      <td>10.0</td>\n",
       "      <td>140.0</td>\n",
       "      <td>0</td>\n",
       "      <td>42.388641</td>\n",
       "      <td>-83.037858</td>\n",
       "      <td>0.0</td>\n",
       "      <td>21695400.0</td>\n",
       "    </tr>\n",
       "  </tbody>\n",
       "</table>\n",
       "</div>"
      ],
      "text/plain": [
       "            ticket_issued_date         hearing_date  fine_amount  \\\n",
       "ticket_id                                                          \n",
       "22056      2004-03-16 11:40:00  2005-03-21 10:30:00        250.0   \n",
       "27586      2004-04-23 12:30:00  2005-05-06 13:30:00        750.0   \n",
       "22046      2004-05-01 11:50:00  2005-03-21 10:30:00        250.0   \n",
       "18738      2004-06-14 14:15:00  2005-02-22 15:00:00        750.0   \n",
       "18735      2004-06-16 12:30:00  2005-02-22 15:00:00        100.0   \n",
       "\n",
       "           discount_amount  late_fee  judgment_amount  grafitti_status  \\\n",
       "ticket_id                                                                \n",
       "22056                  0.0      25.0            305.0                0   \n",
       "27586                  0.0      75.0            855.0                0   \n",
       "22046                  0.0      25.0            305.0                0   \n",
       "18738                  0.0      75.0            855.0                0   \n",
       "18735                  0.0      10.0            140.0                0   \n",
       "\n",
       "                 lat        lon  compliance   date_diff  \n",
       "ticket_id                                                \n",
       "22056      42.390729 -83.124268         0.0  31963800.0  \n",
       "27586      42.326937 -83.135118         1.0  32662800.0  \n",
       "22046      42.145257 -83.208233         0.0  27988800.0  \n",
       "18738      42.433466 -83.023493         0.0  21861900.0  \n",
       "18735      42.388641 -83.037858         0.0  21695400.0  "
      ]
     },
     "execution_count": 5,
     "metadata": {},
     "output_type": "execute_result"
    }
   ],
   "source": [
    "# train_set.head()"
   ]
  },
  {
   "cell_type": "code",
   "execution_count": 6,
   "metadata": {
    "collapsed": false,
    "scrolled": true
   },
   "outputs": [],
   "source": [
    "# y_train = train_set['compliance']\n",
    "# train_set.drop(labels=['ticket_issued_date', 'hearing_date', 'compliance'], axis=1,inplace=True)\n",
    "# X_train = train_set"
   ]
  },
  {
   "cell_type": "code",
   "execution_count": 7,
   "metadata": {
    "collapsed": false
   },
   "outputs": [
    {
     "data": {
      "text/html": [
       "<div>\n",
       "<table border=\"1\" class=\"dataframe\">\n",
       "  <thead>\n",
       "    <tr style=\"text-align: right;\">\n",
       "      <th></th>\n",
       "      <th>fine_amount</th>\n",
       "      <th>discount_amount</th>\n",
       "      <th>late_fee</th>\n",
       "      <th>judgment_amount</th>\n",
       "      <th>grafitti_status</th>\n",
       "      <th>lat</th>\n",
       "      <th>lon</th>\n",
       "      <th>date_diff</th>\n",
       "    </tr>\n",
       "    <tr>\n",
       "      <th>ticket_id</th>\n",
       "      <th></th>\n",
       "      <th></th>\n",
       "      <th></th>\n",
       "      <th></th>\n",
       "      <th></th>\n",
       "      <th></th>\n",
       "      <th></th>\n",
       "      <th></th>\n",
       "    </tr>\n",
       "  </thead>\n",
       "  <tbody>\n",
       "    <tr>\n",
       "      <th>22056</th>\n",
       "      <td>250.0</td>\n",
       "      <td>0.0</td>\n",
       "      <td>25.0</td>\n",
       "      <td>305.0</td>\n",
       "      <td>0</td>\n",
       "      <td>42.390729</td>\n",
       "      <td>-83.124268</td>\n",
       "      <td>31963800.0</td>\n",
       "    </tr>\n",
       "    <tr>\n",
       "      <th>27586</th>\n",
       "      <td>750.0</td>\n",
       "      <td>0.0</td>\n",
       "      <td>75.0</td>\n",
       "      <td>855.0</td>\n",
       "      <td>0</td>\n",
       "      <td>42.326937</td>\n",
       "      <td>-83.135118</td>\n",
       "      <td>32662800.0</td>\n",
       "    </tr>\n",
       "    <tr>\n",
       "      <th>22046</th>\n",
       "      <td>250.0</td>\n",
       "      <td>0.0</td>\n",
       "      <td>25.0</td>\n",
       "      <td>305.0</td>\n",
       "      <td>0</td>\n",
       "      <td>42.145257</td>\n",
       "      <td>-83.208233</td>\n",
       "      <td>27988800.0</td>\n",
       "    </tr>\n",
       "    <tr>\n",
       "      <th>18738</th>\n",
       "      <td>750.0</td>\n",
       "      <td>0.0</td>\n",
       "      <td>75.0</td>\n",
       "      <td>855.0</td>\n",
       "      <td>0</td>\n",
       "      <td>42.433466</td>\n",
       "      <td>-83.023493</td>\n",
       "      <td>21861900.0</td>\n",
       "    </tr>\n",
       "    <tr>\n",
       "      <th>18735</th>\n",
       "      <td>100.0</td>\n",
       "      <td>0.0</td>\n",
       "      <td>10.0</td>\n",
       "      <td>140.0</td>\n",
       "      <td>0</td>\n",
       "      <td>42.388641</td>\n",
       "      <td>-83.037858</td>\n",
       "      <td>21695400.0</td>\n",
       "    </tr>\n",
       "  </tbody>\n",
       "</table>\n",
       "</div>"
      ],
      "text/plain": [
       "           fine_amount  discount_amount  late_fee  judgment_amount  \\\n",
       "ticket_id                                                            \n",
       "22056            250.0              0.0      25.0            305.0   \n",
       "27586            750.0              0.0      75.0            855.0   \n",
       "22046            250.0              0.0      25.0            305.0   \n",
       "18738            750.0              0.0      75.0            855.0   \n",
       "18735            100.0              0.0      10.0            140.0   \n",
       "\n",
       "           grafitti_status        lat        lon   date_diff  \n",
       "ticket_id                                                     \n",
       "22056                    0  42.390729 -83.124268  31963800.0  \n",
       "27586                    0  42.326937 -83.135118  32662800.0  \n",
       "22046                    0  42.145257 -83.208233  27988800.0  \n",
       "18738                    0  42.433466 -83.023493  21861900.0  \n",
       "18735                    0  42.388641 -83.037858  21695400.0  "
      ]
     },
     "execution_count": 7,
     "metadata": {},
     "output_type": "execute_result"
    }
   ],
   "source": [
    "# X_train.head()"
   ]
  },
  {
   "cell_type": "code",
   "execution_count": 8,
   "metadata": {
    "collapsed": false
   },
   "outputs": [
    {
     "data": {
      "text/html": [
       "<div>\n",
       "<table border=\"1\" class=\"dataframe\">\n",
       "  <thead>\n",
       "    <tr style=\"text-align: right;\">\n",
       "      <th></th>\n",
       "      <th>fine_amount</th>\n",
       "      <th>discount_amount</th>\n",
       "      <th>late_fee</th>\n",
       "      <th>judgment_amount</th>\n",
       "      <th>grafitti_status</th>\n",
       "      <th>lat</th>\n",
       "      <th>lon</th>\n",
       "      <th>date_diff</th>\n",
       "    </tr>\n",
       "    <tr>\n",
       "      <th>ticket_id</th>\n",
       "      <th></th>\n",
       "      <th></th>\n",
       "      <th></th>\n",
       "      <th></th>\n",
       "      <th></th>\n",
       "      <th></th>\n",
       "      <th></th>\n",
       "      <th></th>\n",
       "    </tr>\n",
       "  </thead>\n",
       "  <tbody>\n",
       "    <tr>\n",
       "      <th>284932</th>\n",
       "      <td>200.0</td>\n",
       "      <td>0.0</td>\n",
       "      <td>20.0</td>\n",
       "      <td>250.0</td>\n",
       "      <td>0</td>\n",
       "      <td>42.407581</td>\n",
       "      <td>-82.986642</td>\n",
       "      <td>1278000.0</td>\n",
       "    </tr>\n",
       "    <tr>\n",
       "      <th>285362</th>\n",
       "      <td>1000.0</td>\n",
       "      <td>0.0</td>\n",
       "      <td>100.0</td>\n",
       "      <td>1130.0</td>\n",
       "      <td>0</td>\n",
       "      <td>42.426239</td>\n",
       "      <td>-83.238259</td>\n",
       "      <td>2761800.0</td>\n",
       "    </tr>\n",
       "    <tr>\n",
       "      <th>285361</th>\n",
       "      <td>100.0</td>\n",
       "      <td>0.0</td>\n",
       "      <td>10.0</td>\n",
       "      <td>140.0</td>\n",
       "      <td>0</td>\n",
       "      <td>42.426239</td>\n",
       "      <td>-83.238259</td>\n",
       "      <td>2761800.0</td>\n",
       "    </tr>\n",
       "    <tr>\n",
       "      <th>285338</th>\n",
       "      <td>200.0</td>\n",
       "      <td>0.0</td>\n",
       "      <td>20.0</td>\n",
       "      <td>250.0</td>\n",
       "      <td>0</td>\n",
       "      <td>42.309661</td>\n",
       "      <td>-83.122426</td>\n",
       "      <td>2846100.0</td>\n",
       "    </tr>\n",
       "    <tr>\n",
       "      <th>285346</th>\n",
       "      <td>100.0</td>\n",
       "      <td>0.0</td>\n",
       "      <td>10.0</td>\n",
       "      <td>140.0</td>\n",
       "      <td>0</td>\n",
       "      <td>42.308830</td>\n",
       "      <td>-83.121116</td>\n",
       "      <td>3451200.0</td>\n",
       "    </tr>\n",
       "  </tbody>\n",
       "</table>\n",
       "</div>"
      ],
      "text/plain": [
       "           fine_amount  discount_amount  late_fee  judgment_amount  \\\n",
       "ticket_id                                                            \n",
       "284932           200.0              0.0      20.0            250.0   \n",
       "285362          1000.0              0.0     100.0           1130.0   \n",
       "285361           100.0              0.0      10.0            140.0   \n",
       "285338           200.0              0.0      20.0            250.0   \n",
       "285346           100.0              0.0      10.0            140.0   \n",
       "\n",
       "           grafitti_status        lat        lon  date_diff  \n",
       "ticket_id                                                    \n",
       "284932                   0  42.407581 -82.986642  1278000.0  \n",
       "285362                   0  42.426239 -83.238259  2761800.0  \n",
       "285361                   0  42.426239 -83.238259  2761800.0  \n",
       "285338                   0  42.309661 -83.122426  2846100.0  \n",
       "285346                   0  42.308830 -83.121116  3451200.0  "
      ]
     },
     "execution_count": 8,
     "metadata": {},
     "output_type": "execute_result"
    }
   ],
   "source": [
    "# X_test = test_set.drop(labels=['ticket_issued_date', 'hearing_date'], axis=1)\n",
    "# X_test.head()"
   ]
  },
  {
   "cell_type": "code",
   "execution_count": 9,
   "metadata": {
    "collapsed": true
   },
   "outputs": [],
   "source": [
    "# from sklearn.ensemble import GradientBoostingClassifier\n",
    "#from sklearn.metrics import roc_curve, auc\n",
    "#from sklearn.model_selection import GridSearchCV"
   ]
  },
  {
   "cell_type": "code",
   "execution_count": 11,
   "metadata": {
    "collapsed": true
   },
   "outputs": [],
   "source": [
    "#grid_values = {'max_depth': [2,3,4,6],'min_samples_split':list(2**np.arange(1,5)),'n_estimators':[10,20,40,100,200]}"
   ]
  },
  {
   "cell_type": "code",
   "execution_count": 12,
   "metadata": {
    "collapsed": false,
    "scrolled": true
   },
   "outputs": [],
   "source": [
    "#clf = GradientBoostingClassifier()"
   ]
  },
  {
   "cell_type": "code",
   "execution_count": 14,
   "metadata": {
    "collapsed": false
   },
   "outputs": [
    {
     "data": {
      "text/plain": [
       "GridSearchCV(cv=None, error_score='raise',\n",
       "       estimator=GradientBoostingClassifier(criterion='friedman_mse', init=None,\n",
       "              learning_rate=0.1, loss='deviance', max_depth=3,\n",
       "              max_features=None, max_leaf_nodes=None,\n",
       "              min_impurity_split=1e-07, min_samples_leaf=1,\n",
       "              min_samples_split=2, min_weight_fraction_leaf=0.0,\n",
       "              n_estimators=100, presort='auto', random_state=None,\n",
       "              subsample=1.0, verbose=0, warm_start=False),\n",
       "       fit_params={}, iid=True, n_jobs=1,\n",
       "       param_grid={'max_depth': [2, 3, 4, 6], 'min_samples_split': [2, 4, 8, 16], 'n_estimators': [10, 20, 40, 100, 200]},\n",
       "       pre_dispatch='2*n_jobs', refit=True, return_train_score=True,\n",
       "       scoring='roc_auc', verbose=0)"
      ]
     },
     "execution_count": 14,
     "metadata": {},
     "output_type": "execute_result"
    }
   ],
   "source": [
    "#grid_clf_auc = GridSearchCV(clf, param_grid = grid_values, scoring='roc_auc')\n",
    "#grid_clf_auc.fit(X_train, y_train)"
   ]
  },
  {
   "cell_type": "code",
   "execution_count": 15,
   "metadata": {
    "collapsed": false
   },
   "outputs": [
    {
     "data": {
      "text/plain": [
       "0.75825094529177817"
      ]
     },
     "execution_count": 15,
     "metadata": {},
     "output_type": "execute_result"
    }
   ],
   "source": [
    "#grid_clf_auc.best_score_"
   ]
  },
  {
   "cell_type": "code",
   "execution_count": 16,
   "metadata": {
    "collapsed": false
   },
   "outputs": [
    {
     "data": {
      "text/plain": [
       "{'max_depth': 2, 'min_samples_split': 8, 'n_estimators': 100}"
      ]
     },
     "execution_count": 16,
     "metadata": {},
     "output_type": "execute_result"
    }
   ],
   "source": [
    "#grid_clf_auc.best_params_"
   ]
  },
  {
   "cell_type": "code",
   "execution_count": 21,
   "metadata": {
    "collapsed": false,
    "scrolled": true
   },
   "outputs": [],
   "source": [
    "#y_pred = grid_clf_auc.predict_proba(X_test)"
   ]
  },
  {
   "cell_type": "code",
   "execution_count": 24,
   "metadata": {
    "collapsed": false
   },
   "outputs": [
    {
     "data": {
      "text/plain": [
       "(61001, 2)"
      ]
     },
     "execution_count": 24,
     "metadata": {},
     "output_type": "execute_result"
    }
   ],
   "source": [
    "#y_pred.shape"
   ]
  },
  {
   "cell_type": "code",
   "execution_count": 25,
   "metadata": {
    "collapsed": false
   },
   "outputs": [],
   "source": [
    "#y_pred = pd.Series(y_pred[:,1], index=X_test.index)"
   ]
  },
  {
   "cell_type": "code",
   "execution_count": 26,
   "metadata": {
    "collapsed": false,
    "scrolled": true
   },
   "outputs": [
    {
     "data": {
      "text/plain": [
       "ticket_id\n",
       "284932    0.060925\n",
       "285362    0.025573\n",
       "285361    0.062036\n",
       "285338    0.084998\n",
       "285346    0.088057\n",
       "285345    0.084998\n",
       "285347    0.084221\n",
       "285342    0.359073\n",
       "285530    0.039473\n",
       "284989    0.039751\n",
       "285344    0.084221\n",
       "285343    0.041435\n",
       "285340    0.041435\n",
       "285341    0.084221\n",
       "285349    0.088057\n",
       "285348    0.084998\n",
       "284991    0.039751\n",
       "285532    0.043859\n",
       "285406    0.028910\n",
       "285001    0.061253\n",
       "285006    0.055228\n",
       "285405    0.025573\n",
       "285337    0.029179\n",
       "285496    0.064436\n",
       "285497    0.063752\n",
       "285378    0.026220\n",
       "285589    0.029875\n",
       "285585    0.057995\n",
       "285501    0.067437\n",
       "285581    0.026220\n",
       "            ...   \n",
       "376367    0.029717\n",
       "376366    0.037747\n",
       "376362    0.038227\n",
       "376363    0.061225\n",
       "376365    0.029717\n",
       "376364    0.037747\n",
       "376228    0.054325\n",
       "376265    0.034429\n",
       "376286    0.187600\n",
       "376320    0.039845\n",
       "376314    0.038035\n",
       "376327    0.427295\n",
       "376385    0.323308\n",
       "376435    0.448946\n",
       "376370    0.427295\n",
       "376434    0.064436\n",
       "376459    0.067437\n",
       "376478    0.023978\n",
       "376473    0.039845\n",
       "376484    0.042414\n",
       "376482    0.030967\n",
       "376480    0.030967\n",
       "376479    0.030967\n",
       "376481    0.030967\n",
       "376483    0.039845\n",
       "376496    0.026421\n",
       "376497    0.026421\n",
       "376499    0.064458\n",
       "376500    0.064458\n",
       "369851    0.279466\n",
       "dtype: float64"
      ]
     },
     "execution_count": 26,
     "metadata": {},
     "output_type": "execute_result"
    }
   ],
   "source": [
    "#y_pred"
   ]
  },
  {
   "cell_type": "code",
   "execution_count": 29,
   "metadata": {
    "collapsed": true
   },
   "outputs": [],
   "source": [
    "import pandas as pd\n",
    "import numpy as np\n",
    "from sklearn.ensemble import GradientBoostingClassifier\n",
    "\n",
    "def blight_model():\n",
    "    \n",
    "    # Your code here\n",
    "    train_set = pd.read_csv('train.csv',encoding = 'ISO-8859-1')\n",
    "    test_set = pd.read_csv('test.csv')\n",
    "    address = pd.read_csv('addresses.csv')\n",
    "    latlon = pd.read_csv('latlons.csv')\n",
    "    \n",
    "    train_set = train_set[~np.isnan(train_set['compliance'])]\n",
    "    train_add = train_set.merge(address, left_on='ticket_id', right_on='ticket_id')\n",
    "    train_add = train_add.merge(latlon, how='left', left_on='address', right_on='address')\n",
    "    train_set = train_add[['ticket_id','ticket_issued_date','hearing_date',\n",
    "                           'fine_amount','discount_amount',\n",
    "                           'late_fee','judgment_amount','grafitti_status',\n",
    "                           'lat','lon','compliance']].copy()\n",
    "\n",
    "\n",
    "    test_add = test_set.merge(address, left_on='ticket_id', right_on='ticket_id')\n",
    "    test_add = test_add.merge(latlon, how='left', left_on='address', right_on='address')\n",
    "    test_set = test_add[['ticket_id','ticket_issued_date','hearing_date',\n",
    "                         'fine_amount','discount_amount',\n",
    "                         'late_fee','judgment_amount','grafitti_status',\n",
    "                         'lat','lon']].copy()\n",
    "\n",
    "    train_set = train_set.set_index('ticket_id')\n",
    "    test_set = test_set.set_index('ticket_id')\n",
    "    \n",
    "    train_set['grafitti_status'] = (train_set['grafitti_status'].apply(lambda x: isinstance(x, str))).astype(int)\n",
    "    test_set['grafitti_status'] = (test_set['grafitti_status'].apply(lambda x: isinstance(x, str))).astype(int)\n",
    "    \n",
    "    train_set['lat'].fillna((train_set['lat'].mean()), inplace=True)\n",
    "    train_set['lon'].fillna((train_set['lon'].mean()), inplace=True)\n",
    "    test_set['lat'].fillna((train_set['lat'].mean()), inplace=True)\n",
    "    test_set['lon'].fillna((train_set['lon'].mean()), inplace=True)\n",
    "\n",
    "    train_set['date_diff'] = pd.to_datetime(train_set['hearing_date']) - pd.to_datetime(train_set['ticket_issued_date'])\n",
    "    test_set['date_diff'] = pd.to_datetime(test_set['hearing_date']) - pd.to_datetime(test_set['ticket_issued_date'])\n",
    "    train_set['date_diff'] = train_set['date_diff'].apply(lambda x: x.total_seconds())\n",
    "    test_set['date_diff'] = test_set['date_diff'].apply(lambda x: x.total_seconds())\n",
    "\n",
    "    train_set['date_diff'].fillna((train_set['date_diff'].mean()), inplace=True)\n",
    "    test_set['date_diff'].fillna((test_set['date_diff'].mean()), inplace=True)\n",
    "    \n",
    "    y_train = train_set['compliance']\n",
    "    train_set.drop(labels=['ticket_issued_date', 'hearing_date', 'compliance'], axis=1,inplace=True)\n",
    "    X_train = train_set\n",
    "    \n",
    "    X_test = test_set.drop(labels=['ticket_issued_date', 'hearing_date'], axis=1)\n",
    "    \n",
    "    \n",
    "    clf = GradientBoostingClassifier(max_depth=2, min_samples_split=8, n_estimators=100).fit(X_train, y_train)\n",
    "    y_pred = clf.predict_proba(X_test)\n",
    "    \n",
    "    return pd.Series(y_pred[:,1].astype(np.float32), index=X_test.index)"
   ]
  },
  {
   "cell_type": "code",
   "execution_count": 30,
   "metadata": {
    "collapsed": false
   },
   "outputs": [
    {
     "name": "stderr",
     "output_type": "stream",
     "text": [
      "/opt/conda/lib/python3.6/site-packages/IPython/core/interactiveshell.py:2827: DtypeWarning: Columns (11,12,31) have mixed types. Specify dtype option on import or set low_memory=False.\n",
      "  if self.run_code(code, result):\n"
     ]
    },
    {
     "data": {
      "text/plain": [
       "ticket_id\n",
       "284932    0.060925\n",
       "285362    0.025573\n",
       "285361    0.062036\n",
       "285338    0.084998\n",
       "285346    0.088057\n",
       "285345    0.084998\n",
       "285347    0.084221\n",
       "285342    0.359073\n",
       "285530    0.039473\n",
       "284989    0.039751\n",
       "285344    0.084221\n",
       "285343    0.041435\n",
       "285340    0.041435\n",
       "285341    0.084221\n",
       "285349    0.088057\n",
       "285348    0.084998\n",
       "284991    0.039751\n",
       "285532    0.043859\n",
       "285406    0.028910\n",
       "285001    0.061253\n",
       "285006    0.055228\n",
       "285405    0.025573\n",
       "285337    0.029179\n",
       "285496    0.064436\n",
       "285497    0.063752\n",
       "285378    0.026220\n",
       "285589    0.029875\n",
       "285585    0.057995\n",
       "285501    0.067437\n",
       "285581    0.026220\n",
       "            ...   \n",
       "376367    0.029717\n",
       "376366    0.037747\n",
       "376362    0.038227\n",
       "376363    0.061225\n",
       "376365    0.029717\n",
       "376364    0.037747\n",
       "376228    0.054325\n",
       "376265    0.034429\n",
       "376286    0.187600\n",
       "376320    0.039845\n",
       "376314    0.038035\n",
       "376327    0.427295\n",
       "376385    0.323308\n",
       "376435    0.448946\n",
       "376370    0.427295\n",
       "376434    0.064436\n",
       "376459    0.067437\n",
       "376478    0.023978\n",
       "376473    0.039845\n",
       "376484    0.042414\n",
       "376482    0.030967\n",
       "376480    0.030967\n",
       "376479    0.030967\n",
       "376481    0.030967\n",
       "376483    0.039845\n",
       "376496    0.026421\n",
       "376497    0.026421\n",
       "376499    0.064458\n",
       "376500    0.064458\n",
       "369851    0.279465\n",
       "dtype: float32"
      ]
     },
     "execution_count": 30,
     "metadata": {},
     "output_type": "execute_result"
    }
   ],
   "source": [
    "blight_model()"
   ]
  },
  {
   "cell_type": "code",
   "execution_count": null,
   "metadata": {
    "collapsed": true
   },
   "outputs": [],
   "source": []
  }
 ],
 "metadata": {
  "coursera": {
   "course_slug": "python-machine-learning",
   "graded_item_id": "nNS8l",
   "launcher_item_id": "yWWk7",
   "part_id": "w8BSS"
  },
  "kernelspec": {
   "display_name": "Python 3",
   "language": "python",
   "name": "python3"
  },
  "language_info": {
   "codemirror_mode": {
    "name": "ipython",
    "version": 3
   },
   "file_extension": ".py",
   "mimetype": "text/x-python",
   "name": "python",
   "nbconvert_exporter": "python",
   "pygments_lexer": "ipython3",
   "version": "3.6.2"
  }
 },
 "nbformat": 4,
 "nbformat_minor": 2
}
